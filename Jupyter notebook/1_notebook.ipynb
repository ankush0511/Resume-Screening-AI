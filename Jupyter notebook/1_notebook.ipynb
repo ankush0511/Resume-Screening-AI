{
  "cells": [
    {
      "cell_type": "code",
      "execution_count": null,
      "metadata": {
        "id": "BPNSWpK_v9Pj"
      },
      "outputs": [],
      "source": [
        "import pandas as pd\n",
        "import numpy as np\n",
        "import matplotlib.pyplot as plt\n",
        "import seaborn as sns\n",
        "from sklearn.model_selection import train_test_split\n",
        "from sklearn.feature_extraction.text import TfidfVectorizer\n",
        "from sklearn.ensemble import RandomForestClassifier\n",
        "from sklearn.metrics import accuracy_score,confusion_matrix\n"
      ]
    },
    {
      "cell_type": "code",
      "execution_count": null,
      "metadata": {
        "colab": {
          "base_uri": "https://localhost:8080/"
        },
        "id": "R_DBbHCRwhjC",
        "outputId": "a332124c-b95e-4e6c-91f5-a82fef9b480d"
      },
      "outputs": [
        {
          "output_type": "stream",
          "name": "stdout",
          "text": [
            "Requirement already satisfied: kaggle in /usr/local/lib/python3.11/dist-packages (1.6.17)\n",
            "Requirement already satisfied: six>=1.10 in /usr/local/lib/python3.11/dist-packages (from kaggle) (1.17.0)\n",
            "Requirement already satisfied: certifi>=2023.7.22 in /usr/local/lib/python3.11/dist-packages (from kaggle) (2025.1.31)\n",
            "Requirement already satisfied: python-dateutil in /usr/local/lib/python3.11/dist-packages (from kaggle) (2.8.2)\n",
            "Requirement already satisfied: requests in /usr/local/lib/python3.11/dist-packages (from kaggle) (2.32.3)\n",
            "Requirement already satisfied: tqdm in /usr/local/lib/python3.11/dist-packages (from kaggle) (4.67.1)\n",
            "Requirement already satisfied: python-slugify in /usr/local/lib/python3.11/dist-packages (from kaggle) (8.0.4)\n",
            "Requirement already satisfied: urllib3 in /usr/local/lib/python3.11/dist-packages (from kaggle) (2.3.0)\n",
            "Requirement already satisfied: bleach in /usr/local/lib/python3.11/dist-packages (from kaggle) (6.2.0)\n",
            "Requirement already satisfied: webencodings in /usr/local/lib/python3.11/dist-packages (from bleach->kaggle) (0.5.1)\n",
            "Requirement already satisfied: text-unidecode>=1.3 in /usr/local/lib/python3.11/dist-packages (from python-slugify->kaggle) (1.3)\n",
            "Requirement already satisfied: charset-normalizer<4,>=2 in /usr/local/lib/python3.11/dist-packages (from requests->kaggle) (3.4.1)\n",
            "Requirement already satisfied: idna<4,>=2.5 in /usr/local/lib/python3.11/dist-packages (from requests->kaggle) (3.10)\n",
            "Dataset URL: https://www.kaggle.com/datasets/noorsaeed/resume-datasets\n",
            "License(s): MIT\n",
            "Downloading resume-datasets.zip to /content\n",
            " 94% 134M/142M [00:02<00:00, 81.2MB/s]\n",
            "100% 142M/142M [00:02<00:00, 63.5MB/s]\n",
            "Archive:  resume-datasets.zip\n",
            "  inflating: clean_resume_data.csv   \n",
            "  inflating: jobs_dataset_with_features.csv  \n"
          ]
        }
      ],
      "source": [
        "# prompt: load kaggle data\n",
        "\n",
        "# Assuming you have your Kaggle API key set up in your environment.\n",
        "!pip install kaggle\n",
        "\n",
        "# Replace 'username/dataset' with your actual Kaggle dataset path\n",
        "!kaggle datasets download -d noorsaeed/resume-datasets\n",
        "\n",
        "# Unzip the downloaded dataset (adjust the filename if needed)\n",
        "!unzip resume-datasets.zip\n"
      ]
    },
    {
      "cell_type": "code",
      "execution_count": null,
      "metadata": {
        "id": "F62Riyrhw5Of"
      },
      "outputs": [],
      "source": [
        "df=pd.read_csv('/content/clean_resume_data.csv')"
      ]
    },
    {
      "cell_type": "code",
      "execution_count": null,
      "metadata": {
        "id": "uhQPDh6Tv8ur",
        "colab": {
          "base_uri": "https://localhost:8080/",
          "height": 206
        },
        "outputId": "8f578296-0399-4fb0-db61-0449af4b5cbd"
      },
      "outputs": [
        {
          "output_type": "execute_result",
          "data": {
            "text/plain": [
              "         ID Category                                            Feature\n",
              "0  16852973       HR  hr administrator marketing associate hr admini...\n",
              "1  22323967       HR  hr specialist hr operations summary media prof...\n",
              "2  33176873       HR  hr director summary years experience recruitin...\n",
              "3  27018550       HR  hr specialist summary dedicated driven dynamic...\n",
              "4  17812897       HR  hr manager skill highlights hr skills hr depar..."
            ],
            "text/html": [
              "\n",
              "  <div id=\"df-4572fcba-e150-4659-8ff7-b58c9d2e0cfa\" class=\"colab-df-container\">\n",
              "    <div>\n",
              "<style scoped>\n",
              "    .dataframe tbody tr th:only-of-type {\n",
              "        vertical-align: middle;\n",
              "    }\n",
              "\n",
              "    .dataframe tbody tr th {\n",
              "        vertical-align: top;\n",
              "    }\n",
              "\n",
              "    .dataframe thead th {\n",
              "        text-align: right;\n",
              "    }\n",
              "</style>\n",
              "<table border=\"1\" class=\"dataframe\">\n",
              "  <thead>\n",
              "    <tr style=\"text-align: right;\">\n",
              "      <th></th>\n",
              "      <th>ID</th>\n",
              "      <th>Category</th>\n",
              "      <th>Feature</th>\n",
              "    </tr>\n",
              "  </thead>\n",
              "  <tbody>\n",
              "    <tr>\n",
              "      <th>0</th>\n",
              "      <td>16852973</td>\n",
              "      <td>HR</td>\n",
              "      <td>hr administrator marketing associate hr admini...</td>\n",
              "    </tr>\n",
              "    <tr>\n",
              "      <th>1</th>\n",
              "      <td>22323967</td>\n",
              "      <td>HR</td>\n",
              "      <td>hr specialist hr operations summary media prof...</td>\n",
              "    </tr>\n",
              "    <tr>\n",
              "      <th>2</th>\n",
              "      <td>33176873</td>\n",
              "      <td>HR</td>\n",
              "      <td>hr director summary years experience recruitin...</td>\n",
              "    </tr>\n",
              "    <tr>\n",
              "      <th>3</th>\n",
              "      <td>27018550</td>\n",
              "      <td>HR</td>\n",
              "      <td>hr specialist summary dedicated driven dynamic...</td>\n",
              "    </tr>\n",
              "    <tr>\n",
              "      <th>4</th>\n",
              "      <td>17812897</td>\n",
              "      <td>HR</td>\n",
              "      <td>hr manager skill highlights hr skills hr depar...</td>\n",
              "    </tr>\n",
              "  </tbody>\n",
              "</table>\n",
              "</div>\n",
              "    <div class=\"colab-df-buttons\">\n",
              "\n",
              "  <div class=\"colab-df-container\">\n",
              "    <button class=\"colab-df-convert\" onclick=\"convertToInteractive('df-4572fcba-e150-4659-8ff7-b58c9d2e0cfa')\"\n",
              "            title=\"Convert this dataframe to an interactive table.\"\n",
              "            style=\"display:none;\">\n",
              "\n",
              "  <svg xmlns=\"http://www.w3.org/2000/svg\" height=\"24px\" viewBox=\"0 -960 960 960\">\n",
              "    <path d=\"M120-120v-720h720v720H120Zm60-500h600v-160H180v160Zm220 220h160v-160H400v160Zm0 220h160v-160H400v160ZM180-400h160v-160H180v160Zm440 0h160v-160H620v160ZM180-180h160v-160H180v160Zm440 0h160v-160H620v160Z\"/>\n",
              "  </svg>\n",
              "    </button>\n",
              "\n",
              "  <style>\n",
              "    .colab-df-container {\n",
              "      display:flex;\n",
              "      gap: 12px;\n",
              "    }\n",
              "\n",
              "    .colab-df-convert {\n",
              "      background-color: #E8F0FE;\n",
              "      border: none;\n",
              "      border-radius: 50%;\n",
              "      cursor: pointer;\n",
              "      display: none;\n",
              "      fill: #1967D2;\n",
              "      height: 32px;\n",
              "      padding: 0 0 0 0;\n",
              "      width: 32px;\n",
              "    }\n",
              "\n",
              "    .colab-df-convert:hover {\n",
              "      background-color: #E2EBFA;\n",
              "      box-shadow: 0px 1px 2px rgba(60, 64, 67, 0.3), 0px 1px 3px 1px rgba(60, 64, 67, 0.15);\n",
              "      fill: #174EA6;\n",
              "    }\n",
              "\n",
              "    .colab-df-buttons div {\n",
              "      margin-bottom: 4px;\n",
              "    }\n",
              "\n",
              "    [theme=dark] .colab-df-convert {\n",
              "      background-color: #3B4455;\n",
              "      fill: #D2E3FC;\n",
              "    }\n",
              "\n",
              "    [theme=dark] .colab-df-convert:hover {\n",
              "      background-color: #434B5C;\n",
              "      box-shadow: 0px 1px 3px 1px rgba(0, 0, 0, 0.15);\n",
              "      filter: drop-shadow(0px 1px 2px rgba(0, 0, 0, 0.3));\n",
              "      fill: #FFFFFF;\n",
              "    }\n",
              "  </style>\n",
              "\n",
              "    <script>\n",
              "      const buttonEl =\n",
              "        document.querySelector('#df-4572fcba-e150-4659-8ff7-b58c9d2e0cfa button.colab-df-convert');\n",
              "      buttonEl.style.display =\n",
              "        google.colab.kernel.accessAllowed ? 'block' : 'none';\n",
              "\n",
              "      async function convertToInteractive(key) {\n",
              "        const element = document.querySelector('#df-4572fcba-e150-4659-8ff7-b58c9d2e0cfa');\n",
              "        const dataTable =\n",
              "          await google.colab.kernel.invokeFunction('convertToInteractive',\n",
              "                                                    [key], {});\n",
              "        if (!dataTable) return;\n",
              "\n",
              "        const docLinkHtml = 'Like what you see? Visit the ' +\n",
              "          '<a target=\"_blank\" href=https://colab.research.google.com/notebooks/data_table.ipynb>data table notebook</a>'\n",
              "          + ' to learn more about interactive tables.';\n",
              "        element.innerHTML = '';\n",
              "        dataTable['output_type'] = 'display_data';\n",
              "        await google.colab.output.renderOutput(dataTable, element);\n",
              "        const docLink = document.createElement('div');\n",
              "        docLink.innerHTML = docLinkHtml;\n",
              "        element.appendChild(docLink);\n",
              "      }\n",
              "    </script>\n",
              "  </div>\n",
              "\n",
              "\n",
              "<div id=\"df-481ac919-f49b-4ff2-8bc6-324803d0b545\">\n",
              "  <button class=\"colab-df-quickchart\" onclick=\"quickchart('df-481ac919-f49b-4ff2-8bc6-324803d0b545')\"\n",
              "            title=\"Suggest charts\"\n",
              "            style=\"display:none;\">\n",
              "\n",
              "<svg xmlns=\"http://www.w3.org/2000/svg\" height=\"24px\"viewBox=\"0 0 24 24\"\n",
              "     width=\"24px\">\n",
              "    <g>\n",
              "        <path d=\"M19 3H5c-1.1 0-2 .9-2 2v14c0 1.1.9 2 2 2h14c1.1 0 2-.9 2-2V5c0-1.1-.9-2-2-2zM9 17H7v-7h2v7zm4 0h-2V7h2v10zm4 0h-2v-4h2v4z\"/>\n",
              "    </g>\n",
              "</svg>\n",
              "  </button>\n",
              "\n",
              "<style>\n",
              "  .colab-df-quickchart {\n",
              "      --bg-color: #E8F0FE;\n",
              "      --fill-color: #1967D2;\n",
              "      --hover-bg-color: #E2EBFA;\n",
              "      --hover-fill-color: #174EA6;\n",
              "      --disabled-fill-color: #AAA;\n",
              "      --disabled-bg-color: #DDD;\n",
              "  }\n",
              "\n",
              "  [theme=dark] .colab-df-quickchart {\n",
              "      --bg-color: #3B4455;\n",
              "      --fill-color: #D2E3FC;\n",
              "      --hover-bg-color: #434B5C;\n",
              "      --hover-fill-color: #FFFFFF;\n",
              "      --disabled-bg-color: #3B4455;\n",
              "      --disabled-fill-color: #666;\n",
              "  }\n",
              "\n",
              "  .colab-df-quickchart {\n",
              "    background-color: var(--bg-color);\n",
              "    border: none;\n",
              "    border-radius: 50%;\n",
              "    cursor: pointer;\n",
              "    display: none;\n",
              "    fill: var(--fill-color);\n",
              "    height: 32px;\n",
              "    padding: 0;\n",
              "    width: 32px;\n",
              "  }\n",
              "\n",
              "  .colab-df-quickchart:hover {\n",
              "    background-color: var(--hover-bg-color);\n",
              "    box-shadow: 0 1px 2px rgba(60, 64, 67, 0.3), 0 1px 3px 1px rgba(60, 64, 67, 0.15);\n",
              "    fill: var(--button-hover-fill-color);\n",
              "  }\n",
              "\n",
              "  .colab-df-quickchart-complete:disabled,\n",
              "  .colab-df-quickchart-complete:disabled:hover {\n",
              "    background-color: var(--disabled-bg-color);\n",
              "    fill: var(--disabled-fill-color);\n",
              "    box-shadow: none;\n",
              "  }\n",
              "\n",
              "  .colab-df-spinner {\n",
              "    border: 2px solid var(--fill-color);\n",
              "    border-color: transparent;\n",
              "    border-bottom-color: var(--fill-color);\n",
              "    animation:\n",
              "      spin 1s steps(1) infinite;\n",
              "  }\n",
              "\n",
              "  @keyframes spin {\n",
              "    0% {\n",
              "      border-color: transparent;\n",
              "      border-bottom-color: var(--fill-color);\n",
              "      border-left-color: var(--fill-color);\n",
              "    }\n",
              "    20% {\n",
              "      border-color: transparent;\n",
              "      border-left-color: var(--fill-color);\n",
              "      border-top-color: var(--fill-color);\n",
              "    }\n",
              "    30% {\n",
              "      border-color: transparent;\n",
              "      border-left-color: var(--fill-color);\n",
              "      border-top-color: var(--fill-color);\n",
              "      border-right-color: var(--fill-color);\n",
              "    }\n",
              "    40% {\n",
              "      border-color: transparent;\n",
              "      border-right-color: var(--fill-color);\n",
              "      border-top-color: var(--fill-color);\n",
              "    }\n",
              "    60% {\n",
              "      border-color: transparent;\n",
              "      border-right-color: var(--fill-color);\n",
              "    }\n",
              "    80% {\n",
              "      border-color: transparent;\n",
              "      border-right-color: var(--fill-color);\n",
              "      border-bottom-color: var(--fill-color);\n",
              "    }\n",
              "    90% {\n",
              "      border-color: transparent;\n",
              "      border-bottom-color: var(--fill-color);\n",
              "    }\n",
              "  }\n",
              "</style>\n",
              "\n",
              "  <script>\n",
              "    async function quickchart(key) {\n",
              "      const quickchartButtonEl =\n",
              "        document.querySelector('#' + key + ' button');\n",
              "      quickchartButtonEl.disabled = true;  // To prevent multiple clicks.\n",
              "      quickchartButtonEl.classList.add('colab-df-spinner');\n",
              "      try {\n",
              "        const charts = await google.colab.kernel.invokeFunction(\n",
              "            'suggestCharts', [key], {});\n",
              "      } catch (error) {\n",
              "        console.error('Error during call to suggestCharts:', error);\n",
              "      }\n",
              "      quickchartButtonEl.classList.remove('colab-df-spinner');\n",
              "      quickchartButtonEl.classList.add('colab-df-quickchart-complete');\n",
              "    }\n",
              "    (() => {\n",
              "      let quickchartButtonEl =\n",
              "        document.querySelector('#df-481ac919-f49b-4ff2-8bc6-324803d0b545 button');\n",
              "      quickchartButtonEl.style.display =\n",
              "        google.colab.kernel.accessAllowed ? 'block' : 'none';\n",
              "    })();\n",
              "  </script>\n",
              "</div>\n",
              "\n",
              "    </div>\n",
              "  </div>\n"
            ],
            "application/vnd.google.colaboratory.intrinsic+json": {
              "type": "dataframe",
              "variable_name": "df",
              "summary": "{\n  \"name\": \"df\",\n  \"rows\": 2484,\n  \"fields\": [\n    {\n      \"column\": \"ID\",\n      \"properties\": {\n        \"dtype\": \"number\",\n        \"std\": 21457345,\n        \"min\": 3547447,\n        \"max\": 99806115,\n        \"num_unique_values\": 2484,\n        \"samples\": [\n          99244405,\n          17562754,\n          30311725\n        ],\n        \"semantic_type\": \"\",\n        \"description\": \"\"\n      }\n    },\n    {\n      \"column\": \"Category\",\n      \"properties\": {\n        \"dtype\": \"category\",\n        \"num_unique_values\": 24,\n        \"samples\": [\n          \"AGRICULTURE\",\n          \"APPAREL\",\n          \"HR\"\n        ],\n        \"semantic_type\": \"\",\n        \"description\": \"\"\n      }\n    },\n    {\n      \"column\": \"Feature\",\n      \"properties\": {\n        \"dtype\": \"string\",\n        \"num_unique_values\": 2481,\n        \"samples\": [\n          \"information technology specialist discountpcfix summary obsessed technology power change everything technology fuels passion commitment helping organizations set engage bring fresh ideas help team galvanize performance refine strategy spark new energy future get depends build connect create transform world accomplished years information technology support experience highly articulate capable experienced installing updating hardware software systems users known effectively optimizing systems meet changing demands enhancing collaboration improving security experienced operations analyst first rate skills organizing problem solving project management ready apply experience abilities take new professional challenges passionate driven professional remarkable analytical problem solving skills expert quality assurance tester offering five years experience detailed technical system specifications provides collaborative style well developed communication skills seeking role test reporting defect resolution well rounded team player dynamic written verbal communication skills hardworking resourceful team player history going achieve notable results offering excellent blend technical aptitude creative ability inspires design teams engaging management techniques innovative thinking resourceful technical support engineer polished restoring system functionality quickly assessing resolving diverse hardware software problems skills issue escalation reporting analysis quality control schematic understanding critical thinking data management network administration experience leadership improvement plan knowledge supervision hardware repair computer configurations system upgrades new program installations organizational leadership troubleshooting maintenance equipment repair power hand tool use troubleshooting repairs preventative maintenance telecommunications systems component repairs multitasking part inspections friendly positive attitude lan wan configurations server system administration end user training program installations software testing server improvements data backups project management security technologies network configuration time management active directory knowledge cybersecurity analysis system administration microsoft office ms office apple ios technician help desk assistance application software testing mechanical abilities information systems security professional advanced knowledge windows os advanced knowledge google chrome soldering database management technical knowledge server system softwares servers storage systems network equipment pcs notebooks brands experience information technology specialist discountpcfix current company name city state assisted client new computer network equipment purchases updated installed software customers ensure computer efficiency checked computers performed diagnostics repair backed data evening helping alleviate lost information following malware incident updated software versions patches new installations close security loopholes protect users identified hardware issues caused component failures using approved diagnostic tools installed motherboards processors graphics cards configured computers network drivers connected printers peripheral equipment upgraded laptops desktops improving speed performance fixed apple iphone imac ipad laptop products screen damage fixed brand windows os mac os chrome os products liquid damage observed system functioning entered commands test different areas operations explained technology related details easy understand terms individuals walks life various job positions responded assistance requests users directed individuals basic troubleshooting tasks reviewed current hardware software configurations recommended modifications increase system speed serviced repaired equipment according manufacturer guidelines installed new systems components according service orders manufacturer instructions assessed identified issues quickly resolved restore functionality built repaired computers according schedule installed configured setup pcs stores optimal operation reporting evaluated interfaces hardware software testing performance requirements studied complex technical issues determined proper resolution methods assisted post implementation troubleshooting new applications application upgrades determined alleviated hardware software network issues installed supported hardware software including desktops servers printers identified operational performance issues worked managers resolve concerns completed various reports analyzed report decide improvements could made recommended process systems improvements changes operations updated hardware software availability supervised network eliminate bottlenecks immediately handled network configurations hours weekends alleviate downtime maintain smooth operations assisted customers various types technical issues email live telephone delivered local remote tier support hardware software company personnel disassembled computer systems troubleshoot resolve hardware issues increased overall company performance improved uptime cost reductions quality control inspector contractor current company name city state conferred scientific engineering technical personnel resolve design research testing problems worked engineers facilitate research development testing correct mechanical failures generate technical specifications prior release developed implemented best practices defect prevention continuous improvement used specialized tools take precise measurements various aspects samples consulted engineers resolve quality production efficiency problems wrote detailed reports outlining performance quality defect rates completed non destructive tests visual inspections continuous basis inspected quality finished products making minor repairs meet project expectations documented nonconformities immediately recommended techniques prompt resolution completed non destructive tests visual inspections continuously reviewed drawings blueprints determine appropriate level inspection required adhered safety protocols minimize equipment damage avoid injuries assessed materials parts products conformance quality control requirements production specifications network analyst company name city state identified operational performance issues worked managers resolve concerns supporting following hardware types servers storage systems network equipment pcs ipad notebooks brands analyzed operational performance identify pain points provided actionable solutions management educated personnel company policies foster improved customer retention increased revenue technical knowledge standard server system software linux windows vmware drove revenue customer retention visiting corporate franchise centers serving clients educate staff company policies customer styling applications wrote reports outlining results facilitate management decision making executed monitored standards user interfaces page design graphics development provided senior technical support house staff user departments network applications monitored project budget careful assessment resource usage task management ensure costs kept low supported customers password resets account customization recorded complaints product deficiencies returned orders customer documentation system supported customers data connectivity issues assisting troubleshooting steps rebooting hardware maintained composure patience face difficult customer situations applying escalation techniques positive customer support performed site evaluations customer surveys team audits promoted continuous improvement governance processes spearheaded server infrastructure development quality control staging production operations quality control manager company name city state stayed well informed company federal regulations bolstered compliance corporate processes used creative professional policy find solutions issues diminishing conflicts handled scheduling procedures department directed team members setting achieving goals observed customer specifications monitoring quality control finished products education training federal polytechnic ado ekiti city state associate science science technology phoenix east aviation city state f aircraft dispatcher license aviation university colorado boulder city certificate cybersecurity policy aviation internet google support city certificate completed professional course security defense digital dark arts operating system becoming power user bits bytes computer networking system administration infrastructure service technical support fundamentals\",\n          \"business development director summary collaborate multiple stakeholders determine audience needs quickly developing strategic plans align clients business priorities strategies experience business development director current company name city state producing measurable results clients designing unique engagement initiatives employees sales channel partners consumers groups sales performance improvement products intangible services fortune clients success discovering growing business customers potential spend million year designed innovative solutions customized customers various objectives end result needs managing internal teams develop design operate complex custom projects ranging value least millions titles called include entire c suite ceo coo cfo cmo president evp marketing sales human resources finance define business issues improve revenue penetrating existing accounts opening new sold new accounts current position managed sales volume profit margin long sales cycle managed hired staff work major global account travel meetings business years total book business constantly million year nearly twice entertainment activity similar tenure achieved million sales twice becoming trusted partner clients customers want win account territory district sales manager national account sales company name city state responsible growth distributor sales volume product mix motivation dsr sales forces developed custom local training marketing materials later adopted nestle corporate distributor chain accounts accounted million sales increased chain accounts national accounts created sales forecasts developed budgets strategic plans managed entire regional office staff working team grew business nestle largest account nearly double surpassed sales budget goals year manager twice led company nationally new product introductions district sales grew million million district manager hired five salespeople direct reports promoted managed eight account managers time developed new reports marketing promotional strategies field designed account reviews process management field training programs entire company sold small business owners managed distributor sales accounts using strategic planning innovative programming cultivating strong personal relationships took area territory sales million mature company industry average annual increase financial operations executive department merchandising manager company name city state financial operations executive south bend store volunteered merchandise manager stores largest department role department highest foot sales volume department entire corporation th quarter accomplishments times president achievement guild award winner sales volume profit times president achievement award winner sales volume profit times achievement guild winner leadership year running combined volume top travel meetings sales several times biw national sales contest superbowl twice awarded achiever year profitable direct customer reviewed consistently management career outstanding exceeding expectations college elected executive positions finance club resident housing association skills sales business development distributor sales territory sales district sales sales solutions sales teams sales accounts national accounts sales management strategic accounts sales promotions travel meeting sales technology application sales clients management marketing budget budgets forecasts promotional travel meeting operations strategic planning training training development financial operations merchandising corporate operations employee engagement managing existing accounts forecasting human resources finding new accounts relationship building strategic direction education bachelor business administration finance general business western michigan university city state earned educational living costs jobs worked college industrial heavy construction excelled several sales roles including direct sales home goods direct sales national trip ranked top country sales started twosuccessful campus businesses member varsity division football team years organizations imex milford memories planning board huron valley youth baseball president treasurer director travel baseball lakeland milford travel secretary milford high school baseball instructor\",\n          \"engineering intern personal summary age years permanenet residency australia new zealand citizen currently living sydney australia knowledge base c python r stk catia ansys latex solidworks microsoft office microsoft project academic background high school diploma mathematics physics chemistry engineering nortmead high school city state australia ranked st place unit mathematics physics chemistry engineering studies ranked rd place extension mathematics english advanced received nd highest atar school bachelor science bachelor engineering honours aerospace university new south wales unsw city state australia maintained distinction final years university obtained high distinction distinction results advanced rd th year subjects engineering faculty dynamics aerospace vehicles avionics finite element methods aerodynamics professional engineering communication thesis using matlab programming certifications credentials scrum fundamentals certified data science fundamentals certified oracle sql developer advanced sql sql expert progress experience engineering intern feb apr company name city state achievements collaborated team engineers different fields goal creating technical solutions product concerns raised customers produced test record documentation containing solutions customers contacted customers directly verbally convey test result explain solution procedure written documentation successfully independently scoped business opportunities technically analysing possible options presented information company director independently autonomously researched far regulations successfully create test record sheets containing correct load values test methodology structural load testing seats aeromedical transport vehicles quickly learned production article conformity procedures taught casa regulatory authorities applied knowledge techniques autonomously measure articles appropriate measuring equipment tools strict timeframes reported nonconformities provided recommendations modifications directly design engineer built tested verified products performing functional qualitative inspections discover faults issues production articles deduced failure modes items undergo structural load testing using problem solving skills analytical skills using finite element ansys software independently created equipment supports integrated safety barriers analytical cad assisted design construction using mechanical engineering methods tools equipment desoldered soldered electronic components circuit boards rapidly create multiple fully functioning led lights used electronic medical equipment sales representative may jan company name city efficiently recorded sales orders purchase orders fire warning systems lights electrical fittings cameras displayed excellent customer service skills interpersonal skills communicating australian international customers phone provide information products maintaining regular email phone contact customers collaborated sales manager provide updates progress accounts prepared followed customer quotes turned leads appointments provided training customers ensure efficiently clean correctly use maintain company product applied regular follow process maximizing sales enquiry selling new customers identifying sales opportunities basic repairs maintenance existing customers ensuring email telephone enquiries answered minutes displayed ability focus high pressure environments calmly handling customer complaints showed flexibility collaborating administration team demanding times complete administrative tasks update records demonstrated attention detail utilizing time management skills setting goals prioritizing tasks creating schedules work strict deadlines tutor feb may company name city state tutored students one one classes group classes using effective teaching techniques help students ranging year difficulties science mathematics physics chemistry english provided assistance students ranging year fast paced homework help classes mechanical design engineer aug jul company name city state shared responsibility designing cubesat leader mechanical design team entry canadian satellite design challenge csdc solidworks structurally tested ansys printed completion design communicated teams fields using jira involved constructing mars rover entry european rover challenge erc led mechanical team designing gimbal gyroscopic testbed reaction wheel system solidworks displayed future students form printed model trained new members mechanical team using solidworks taught thermal electrical structural concepts memberships bluesat basic low earth orbit unsw experimental satellite group engineers australia achievements shared responsibility designing cubesat leader mechanical design team entry canadian satellite design challenge csdc solidworks structurally tested ansys printed completion design communicated teams fields using jira involved constructing mars rover entry european rover challenge erc led mechanical team designing gimbal gyroscopic testbed reaction wheel system solidworks displayed future students form printed modeltrained new members mechanical team using solidworks taught thermal electrical structural concepts community services social support youth services volunteer karabi community development services wentworthville sydney going achievements displayed passion social service support teaching facilitating setting activities events elderly people disabilities children provided assistance administration creative work office facilitating supervising youth school holiday programs personal interests hobbies traveling tennis hiking statistics cad drawing aircraft spacecraft astronomy\"\n        ],\n        \"semantic_type\": \"\",\n        \"description\": \"\"\n      }\n    }\n  ]\n}"
            }
          },
          "metadata": {},
          "execution_count": 4
        }
      ],
      "source": [
        "df.head()"
      ]
    },
    {
      "cell_type": "code",
      "execution_count": null,
      "metadata": {
        "id": "-FQEKCgfxSUd",
        "colab": {
          "base_uri": "https://localhost:8080/"
        },
        "outputId": "e5becf8f-7368-4a4e-d2b4-55d42cb4be67"
      },
      "outputs": [
        {
          "output_type": "execute_result",
          "data": {
            "text/plain": [
              "(2484, 3)"
            ]
          },
          "metadata": {},
          "execution_count": 5
        }
      ],
      "source": [
        "df.shape"
      ]
    },
    {
      "cell_type": "code",
      "execution_count": null,
      "metadata": {
        "id": "4xwrBZd_xXDv",
        "colab": {
          "base_uri": "https://localhost:8080/",
          "height": 178
        },
        "outputId": "317fd28a-6507-4f6e-c3c4-0bdd92df2b93"
      },
      "outputs": [
        {
          "output_type": "execute_result",
          "data": {
            "text/plain": [
              "ID          0\n",
              "Category    0\n",
              "Feature     1\n",
              "dtype: int64"
            ],
            "text/html": [
              "<div>\n",
              "<style scoped>\n",
              "    .dataframe tbody tr th:only-of-type {\n",
              "        vertical-align: middle;\n",
              "    }\n",
              "\n",
              "    .dataframe tbody tr th {\n",
              "        vertical-align: top;\n",
              "    }\n",
              "\n",
              "    .dataframe thead th {\n",
              "        text-align: right;\n",
              "    }\n",
              "</style>\n",
              "<table border=\"1\" class=\"dataframe\">\n",
              "  <thead>\n",
              "    <tr style=\"text-align: right;\">\n",
              "      <th></th>\n",
              "      <th>0</th>\n",
              "    </tr>\n",
              "  </thead>\n",
              "  <tbody>\n",
              "    <tr>\n",
              "      <th>ID</th>\n",
              "      <td>0</td>\n",
              "    </tr>\n",
              "    <tr>\n",
              "      <th>Category</th>\n",
              "      <td>0</td>\n",
              "    </tr>\n",
              "    <tr>\n",
              "      <th>Feature</th>\n",
              "      <td>1</td>\n",
              "    </tr>\n",
              "  </tbody>\n",
              "</table>\n",
              "</div><br><label><b>dtype:</b> int64</label>"
            ]
          },
          "metadata": {},
          "execution_count": 6
        }
      ],
      "source": [
        "df.isnull().sum()"
      ]
    },
    {
      "cell_type": "code",
      "execution_count": null,
      "metadata": {
        "id": "ws74Pe3vxZNC"
      },
      "outputs": [],
      "source": [
        "df.dropna(inplace=True)"
      ]
    },
    {
      "cell_type": "code",
      "execution_count": null,
      "metadata": {
        "id": "gLgO4nxrxcJi",
        "colab": {
          "base_uri": "https://localhost:8080/"
        },
        "outputId": "bc84914f-f57a-4f59-afcd-46c3b10414a9"
      },
      "outputs": [
        {
          "output_type": "execute_result",
          "data": {
            "text/plain": [
              "(2483, 3)"
            ]
          },
          "metadata": {},
          "execution_count": 8
        }
      ],
      "source": [
        "df.shape"
      ]
    },
    {
      "cell_type": "code",
      "execution_count": null,
      "metadata": {
        "id": "sAX797aaxd6G",
        "colab": {
          "base_uri": "https://localhost:8080/"
        },
        "outputId": "319fa2d0-a939-432a-b43a-71725c5a1ae3"
      },
      "outputs": [
        {
          "output_type": "execute_result",
          "data": {
            "text/plain": [
              "0"
            ]
          },
          "metadata": {},
          "execution_count": 9
        }
      ],
      "source": [
        "df.duplicated().sum()"
      ]
    },
    {
      "cell_type": "markdown",
      "metadata": {
        "id": "fM0UU0rsxiBj"
      },
      "source": [
        "# EDA"
      ]
    },
    {
      "cell_type": "code",
      "execution_count": null,
      "metadata": {
        "id": "EH-wqln3xhge",
        "colab": {
          "base_uri": "https://localhost:8080/",
          "height": 868
        },
        "outputId": "1f987d7a-78b2-4c43-d782-5ce990e17e98"
      },
      "outputs": [
        {
          "output_type": "execute_result",
          "data": {
            "text/plain": [
              "Category\n",
              "INFORMATION-TECHNOLOGY    120\n",
              "BUSINESS-DEVELOPMENT      119\n",
              "FINANCE                   118\n",
              "ADVOCATE                  118\n",
              "ACCOUNTANT                118\n",
              "ENGINEERING               118\n",
              "CHEF                      118\n",
              "AVIATION                  117\n",
              "FITNESS                   117\n",
              "SALES                     116\n",
              "BANKING                   115\n",
              "HEALTHCARE                115\n",
              "CONSULTANT                115\n",
              "CONSTRUCTION              112\n",
              "PUBLIC-RELATIONS          111\n",
              "HR                        110\n",
              "DESIGNER                  107\n",
              "ARTS                      103\n",
              "TEACHER                   102\n",
              "APPAREL                    97\n",
              "DIGITAL-MEDIA              96\n",
              "AGRICULTURE                63\n",
              "AUTOMOBILE                 36\n",
              "BPO                        22\n",
              "Name: count, dtype: int64"
            ],
            "text/html": [
              "<div>\n",
              "<style scoped>\n",
              "    .dataframe tbody tr th:only-of-type {\n",
              "        vertical-align: middle;\n",
              "    }\n",
              "\n",
              "    .dataframe tbody tr th {\n",
              "        vertical-align: top;\n",
              "    }\n",
              "\n",
              "    .dataframe thead th {\n",
              "        text-align: right;\n",
              "    }\n",
              "</style>\n",
              "<table border=\"1\" class=\"dataframe\">\n",
              "  <thead>\n",
              "    <tr style=\"text-align: right;\">\n",
              "      <th></th>\n",
              "      <th>count</th>\n",
              "    </tr>\n",
              "    <tr>\n",
              "      <th>Category</th>\n",
              "      <th></th>\n",
              "    </tr>\n",
              "  </thead>\n",
              "  <tbody>\n",
              "    <tr>\n",
              "      <th>INFORMATION-TECHNOLOGY</th>\n",
              "      <td>120</td>\n",
              "    </tr>\n",
              "    <tr>\n",
              "      <th>BUSINESS-DEVELOPMENT</th>\n",
              "      <td>119</td>\n",
              "    </tr>\n",
              "    <tr>\n",
              "      <th>FINANCE</th>\n",
              "      <td>118</td>\n",
              "    </tr>\n",
              "    <tr>\n",
              "      <th>ADVOCATE</th>\n",
              "      <td>118</td>\n",
              "    </tr>\n",
              "    <tr>\n",
              "      <th>ACCOUNTANT</th>\n",
              "      <td>118</td>\n",
              "    </tr>\n",
              "    <tr>\n",
              "      <th>ENGINEERING</th>\n",
              "      <td>118</td>\n",
              "    </tr>\n",
              "    <tr>\n",
              "      <th>CHEF</th>\n",
              "      <td>118</td>\n",
              "    </tr>\n",
              "    <tr>\n",
              "      <th>AVIATION</th>\n",
              "      <td>117</td>\n",
              "    </tr>\n",
              "    <tr>\n",
              "      <th>FITNESS</th>\n",
              "      <td>117</td>\n",
              "    </tr>\n",
              "    <tr>\n",
              "      <th>SALES</th>\n",
              "      <td>116</td>\n",
              "    </tr>\n",
              "    <tr>\n",
              "      <th>BANKING</th>\n",
              "      <td>115</td>\n",
              "    </tr>\n",
              "    <tr>\n",
              "      <th>HEALTHCARE</th>\n",
              "      <td>115</td>\n",
              "    </tr>\n",
              "    <tr>\n",
              "      <th>CONSULTANT</th>\n",
              "      <td>115</td>\n",
              "    </tr>\n",
              "    <tr>\n",
              "      <th>CONSTRUCTION</th>\n",
              "      <td>112</td>\n",
              "    </tr>\n",
              "    <tr>\n",
              "      <th>PUBLIC-RELATIONS</th>\n",
              "      <td>111</td>\n",
              "    </tr>\n",
              "    <tr>\n",
              "      <th>HR</th>\n",
              "      <td>110</td>\n",
              "    </tr>\n",
              "    <tr>\n",
              "      <th>DESIGNER</th>\n",
              "      <td>107</td>\n",
              "    </tr>\n",
              "    <tr>\n",
              "      <th>ARTS</th>\n",
              "      <td>103</td>\n",
              "    </tr>\n",
              "    <tr>\n",
              "      <th>TEACHER</th>\n",
              "      <td>102</td>\n",
              "    </tr>\n",
              "    <tr>\n",
              "      <th>APPAREL</th>\n",
              "      <td>97</td>\n",
              "    </tr>\n",
              "    <tr>\n",
              "      <th>DIGITAL-MEDIA</th>\n",
              "      <td>96</td>\n",
              "    </tr>\n",
              "    <tr>\n",
              "      <th>AGRICULTURE</th>\n",
              "      <td>63</td>\n",
              "    </tr>\n",
              "    <tr>\n",
              "      <th>AUTOMOBILE</th>\n",
              "      <td>36</td>\n",
              "    </tr>\n",
              "    <tr>\n",
              "      <th>BPO</th>\n",
              "      <td>22</td>\n",
              "    </tr>\n",
              "  </tbody>\n",
              "</table>\n",
              "</div><br><label><b>dtype:</b> int64</label>"
            ]
          },
          "metadata": {},
          "execution_count": 10
        }
      ],
      "source": [
        "df['Category'].value_counts()"
      ]
    },
    {
      "cell_type": "code",
      "execution_count": null,
      "metadata": {
        "id": "hD53xXUXxlon",
        "colab": {
          "base_uri": "https://localhost:8080/",
          "height": 371
        },
        "outputId": "73a427f6-3565-470c-fbc2-a249622fab2b"
      },
      "outputs": [
        {
          "output_type": "display_data",
          "data": {
            "text/plain": [
              "<Figure size 1500x500 with 1 Axes>"
            ],
            "image/png": "[encoded data removed]"
          },
          "metadata": {}
        }
      ],
      "source": [
        "plt.figure(figsize=(15,5))\n",
        "sns.countplot(y='Category',data=df,orient='h')\n",
        "plt.show()"
      ]
    },
    {
      "cell_type": "code",
      "execution_count": null,
      "metadata": {
        "id": "04Fo9ERsxnnI",
        "colab": {
          "base_uri": "https://localhost:8080/",
          "height": 807
        },
        "outputId": "68db52f6-a5a5-47c0-b594-e58c45ab1ce0"
      },
      "outputs": [
        {
          "output_type": "display_data",
          "data": {
            "text/plain": [
              "<Figure size 1500x1000 with 1 Axes>"
            ],
            "image/png": "[encoded data removed]"
          },
          "metadata": {}
        }
      ],
      "source": [
        "label=df['Category'].unique()\n",
        "counts=df['Category'].value_counts()\n",
        "\n",
        "plt.figure(figsize=(15,10))\n",
        "plt.pie(counts,labels=label,autopct='%1.1f%%',shadow=True)\n",
        "plt.show()"
      ]
    },
    {
      "cell_type": "markdown",
      "metadata": {
        "id": "StIYkHTTxrgD"
      },
      "source": [
        "#balancing dataset"
      ]
    },
    {
      "cell_type": "code",
      "execution_count": null,
      "metadata": {
        "id": "QbzfwDM2xpK-"
      },
      "outputs": [],
      "source": [
        "from sklearn.utils import resample\n",
        "\n",
        "max_count=df['Category'].value_counts().max()\n",
        "balanced_data=[]\n",
        "\n",
        "for category in df['Category'].unique():\n",
        "    category_data=df[df['Category']==category]\n",
        "    if len(category_data)<max_count:\n",
        "        b_c_d=resample(category_data,replace=True,n_samples=max_count,random_state=42)\n",
        "    else:\n",
        "        b_c_d=resample(category_data,replace=True,n_samples=max_count,random_state=42)\n",
        "    balanced_data.append(b_c_d)\n",
        "\n",
        "balanced_df=pd.concat(balanced_data)"
      ]
    },
    {
      "cell_type": "code",
      "execution_count": null,
      "metadata": {
        "id": "HteWLN49xtY3",
        "colab": {
          "base_uri": "https://localhost:8080/",
          "height": 868
        },
        "outputId": "7db02740-2c7a-4055-9cb3-1cf1c15734b0"
      },
      "outputs": [
        {
          "output_type": "execute_result",
          "data": {
            "text/plain": [
              "Category\n",
              "HR                        120\n",
              "DESIGNER                  120\n",
              "ARTS                      120\n",
              "BANKING                   120\n",
              "PUBLIC-RELATIONS          120\n",
              "CONSTRUCTION              120\n",
              "ACCOUNTANT                120\n",
              "ENGINEERING               120\n",
              "APPAREL                   120\n",
              "FINANCE                   120\n",
              "CHEF                      120\n",
              "AUTOMOBILE                120\n",
              "DIGITAL-MEDIA             120\n",
              "CONSULTANT                120\n",
              "SALES                     120\n",
              "BPO                       120\n",
              "AGRICULTURE               120\n",
              "FITNESS                   120\n",
              "HEALTHCARE                120\n",
              "BUSINESS-DEVELOPMENT      120\n",
              "ADVOCATE                  120\n",
              "TEACHER                   120\n",
              "INFORMATION-TECHNOLOGY    120\n",
              "AVIATION                  120\n",
              "Name: count, dtype: int64"
            ],
            "text/html": [
              "<div>\n",
              "<style scoped>\n",
              "    .dataframe tbody tr th:only-of-type {\n",
              "        vertical-align: middle;\n",
              "    }\n",
              "\n",
              "    .dataframe tbody tr th {\n",
              "        vertical-align: top;\n",
              "    }\n",
              "\n",
              "    .dataframe thead th {\n",
              "        text-align: right;\n",
              "    }\n",
              "</style>\n",
              "<table border=\"1\" class=\"dataframe\">\n",
              "  <thead>\n",
              "    <tr style=\"text-align: right;\">\n",
              "      <th></th>\n",
              "      <th>count</th>\n",
              "    </tr>\n",
              "    <tr>\n",
              "      <th>Category</th>\n",
              "      <th></th>\n",
              "    </tr>\n",
              "  </thead>\n",
              "  <tbody>\n",
              "    <tr>\n",
              "      <th>HR</th>\n",
              "      <td>120</td>\n",
              "    </tr>\n",
              "    <tr>\n",
              "      <th>DESIGNER</th>\n",
              "      <td>120</td>\n",
              "    </tr>\n",
              "    <tr>\n",
              "      <th>ARTS</th>\n",
              "      <td>120</td>\n",
              "    </tr>\n",
              "    <tr>\n",
              "      <th>BANKING</th>\n",
              "      <td>120</td>\n",
              "    </tr>\n",
              "    <tr>\n",
              "      <th>PUBLIC-RELATIONS</th>\n",
              "      <td>120</td>\n",
              "    </tr>\n",
              "    <tr>\n",
              "      <th>CONSTRUCTION</th>\n",
              "      <td>120</td>\n",
              "    </tr>\n",
              "    <tr>\n",
              "      <th>ACCOUNTANT</th>\n",
              "      <td>120</td>\n",
              "    </tr>\n",
              "    <tr>\n",
              "      <th>ENGINEERING</th>\n",
              "      <td>120</td>\n",
              "    </tr>\n",
              "    <tr>\n",
              "      <th>APPAREL</th>\n",
              "      <td>120</td>\n",
              "    </tr>\n",
              "    <tr>\n",
              "      <th>FINANCE</th>\n",
              "      <td>120</td>\n",
              "    </tr>\n",
              "    <tr>\n",
              "      <th>CHEF</th>\n",
              "      <td>120</td>\n",
              "    </tr>\n",
              "    <tr>\n",
              "      <th>AUTOMOBILE</th>\n",
              "      <td>120</td>\n",
              "    </tr>\n",
              "    <tr>\n",
              "      <th>DIGITAL-MEDIA</th>\n",
              "      <td>120</td>\n",
              "    </tr>\n",
              "    <tr>\n",
              "      <th>CONSULTANT</th>\n",
              "      <td>120</td>\n",
              "    </tr>\n",
              "    <tr>\n",
              "      <th>SALES</th>\n",
              "      <td>120</td>\n",
              "    </tr>\n",
              "    <tr>\n",
              "      <th>BPO</th>\n",
              "      <td>120</td>\n",
              "    </tr>\n",
              "    <tr>\n",
              "      <th>AGRICULTURE</th>\n",
              "      <td>120</td>\n",
              "    </tr>\n",
              "    <tr>\n",
              "      <th>FITNESS</th>\n",
              "      <td>120</td>\n",
              "    </tr>\n",
              "    <tr>\n",
              "      <th>HEALTHCARE</th>\n",
              "      <td>120</td>\n",
              "    </tr>\n",
              "    <tr>\n",
              "      <th>BUSINESS-DEVELOPMENT</th>\n",
              "      <td>120</td>\n",
              "    </tr>\n",
              "    <tr>\n",
              "      <th>ADVOCATE</th>\n",
              "      <td>120</td>\n",
              "    </tr>\n",
              "    <tr>\n",
              "      <th>TEACHER</th>\n",
              "      <td>120</td>\n",
              "    </tr>\n",
              "    <tr>\n",
              "      <th>INFORMATION-TECHNOLOGY</th>\n",
              "      <td>120</td>\n",
              "    </tr>\n",
              "    <tr>\n",
              "      <th>AVIATION</th>\n",
              "      <td>120</td>\n",
              "    </tr>\n",
              "  </tbody>\n",
              "</table>\n",
              "</div><br><label><b>dtype:</b> int64</label>"
            ]
          },
          "metadata": {},
          "execution_count": 14
        }
      ],
      "source": [
        "balanced_df['Category'].value_counts()"
      ]
    },
    {
      "cell_type": "markdown",
      "metadata": {
        "id": "hbWLyNZ9xySA"
      },
      "source": [
        "# train test split"
      ]
    },
    {
      "cell_type": "code",
      "execution_count": null,
      "metadata": {
        "id": "ailRUYDUxvKQ"
      },
      "outputs": [],
      "source": [
        "x=balanced_df['Feature']\n",
        "y=balanced_df['Category']"
      ]
    },
    {
      "cell_type": "code",
      "execution_count": null,
      "metadata": {
        "id": "bkqItm_7x0Mj",
        "colab": {
          "base_uri": "https://localhost:8080/",
          "height": 458
        },
        "outputId": "b62d5b26-9494-4196-de32-52545ab49710"
      },
      "outputs": [
        {
          "output_type": "execute_result",
          "data": {
            "text/plain": [
              "102     hr personnel assistant summary u citizen autho...\n",
              "51      hr assistant summary hard worker dedicated det...\n",
              "92      global hr manager summary global hr profession...\n",
              "14      hr coordinator summary applicant screening bac...\n",
              "106     designation hr assistant professional summary ...\n",
              "                              ...                        \n",
              "2390    aviation fuel quality control specialist profe...\n",
              "2392    superintendent ii summary solutions focused ve...\n",
              "2455    assistant cfo professional summary dedicated f...\n",
              "2426    tso floater career overview obtain position fa...\n",
              "2475    senior lead technologist editor professional p...\n",
              "Name: Feature, Length: 2880, dtype: object"
            ],
            "text/html": [
              "<div>\n",
              "<style scoped>\n",
              "    .dataframe tbody tr th:only-of-type {\n",
              "        vertical-align: middle;\n",
              "    }\n",
              "\n",
              "    .dataframe tbody tr th {\n",
              "        vertical-align: top;\n",
              "    }\n",
              "\n",
              "    .dataframe thead th {\n",
              "        text-align: right;\n",
              "    }\n",
              "</style>\n",
              "<table border=\"1\" class=\"dataframe\">\n",
              "  <thead>\n",
              "    <tr style=\"text-align: right;\">\n",
              "      <th></th>\n",
              "      <th>Feature</th>\n",
              "    </tr>\n",
              "  </thead>\n",
              "  <tbody>\n",
              "    <tr>\n",
              "      <th>102</th>\n",
              "      <td>hr personnel assistant summary u citizen autho...</td>\n",
              "    </tr>\n",
              "    <tr>\n",
              "      <th>51</th>\n",
              "      <td>hr assistant summary hard worker dedicated det...</td>\n",
              "    </tr>\n",
              "    <tr>\n",
              "      <th>92</th>\n",
              "      <td>global hr manager summary global hr profession...</td>\n",
              "    </tr>\n",
              "    <tr>\n",
              "      <th>14</th>\n",
              "      <td>hr coordinator summary applicant screening bac...</td>\n",
              "    </tr>\n",
              "    <tr>\n",
              "      <th>106</th>\n",
              "      <td>designation hr assistant professional summary ...</td>\n",
              "    </tr>\n",
              "    <tr>\n",
              "      <th>...</th>\n",
              "      <td>...</td>\n",
              "    </tr>\n",
              "    <tr>\n",
              "      <th>2390</th>\n",
              "      <td>aviation fuel quality control specialist profe...</td>\n",
              "    </tr>\n",
              "    <tr>\n",
              "      <th>2392</th>\n",
              "      <td>superintendent ii summary solutions focused ve...</td>\n",
              "    </tr>\n",
              "    <tr>\n",
              "      <th>2455</th>\n",
              "      <td>assistant cfo professional summary dedicated f...</td>\n",
              "    </tr>\n",
              "    <tr>\n",
              "      <th>2426</th>\n",
              "      <td>tso floater career overview obtain position fa...</td>\n",
              "    </tr>\n",
              "    <tr>\n",
              "      <th>2475</th>\n",
              "      <td>senior lead technologist editor professional p...</td>\n",
              "    </tr>\n",
              "  </tbody>\n",
              "</table>\n",
              "<p>2880 rows × 1 columns</p>\n",
              "</div><br><label><b>dtype:</b> object</label>"
            ]
          },
          "metadata": {},
          "execution_count": 16
        }
      ],
      "source": [
        "x"
      ]
    },
    {
      "cell_type": "code",
      "execution_count": null,
      "metadata": {
        "id": "Rpk4xdQmx2lU",
        "colab": {
          "base_uri": "https://localhost:8080/",
          "height": 458
        },
        "outputId": "be1d800a-7c72-49dc-a617-f347d4ceca26"
      },
      "outputs": [
        {
          "output_type": "execute_result",
          "data": {
            "text/plain": [
              "102           HR\n",
              "51            HR\n",
              "92            HR\n",
              "14            HR\n",
              "106           HR\n",
              "          ...   \n",
              "2390    AVIATION\n",
              "2392    AVIATION\n",
              "2455    AVIATION\n",
              "2426    AVIATION\n",
              "2475    AVIATION\n",
              "Name: Category, Length: 2880, dtype: object"
            ],
            "text/html": [
              "<div>\n",
              "<style scoped>\n",
              "    .dataframe tbody tr th:only-of-type {\n",
              "        vertical-align: middle;\n",
              "    }\n",
              "\n",
              "    .dataframe tbody tr th {\n",
              "        vertical-align: top;\n",
              "    }\n",
              "\n",
              "    .dataframe thead th {\n",
              "        text-align: right;\n",
              "    }\n",
              "</style>\n",
              "<table border=\"1\" class=\"dataframe\">\n",
              "  <thead>\n",
              "    <tr style=\"text-align: right;\">\n",
              "      <th></th>\n",
              "      <th>Category</th>\n",
              "    </tr>\n",
              "  </thead>\n",
              "  <tbody>\n",
              "    <tr>\n",
              "      <th>102</th>\n",
              "      <td>HR</td>\n",
              "    </tr>\n",
              "    <tr>\n",
              "      <th>51</th>\n",
              "      <td>HR</td>\n",
              "    </tr>\n",
              "    <tr>\n",
              "      <th>92</th>\n",
              "      <td>HR</td>\n",
              "    </tr>\n",
              "    <tr>\n",
              "      <th>14</th>\n",
              "      <td>HR</td>\n",
              "    </tr>\n",
              "    <tr>\n",
              "      <th>106</th>\n",
              "      <td>HR</td>\n",
              "    </tr>\n",
              "    <tr>\n",
              "      <th>...</th>\n",
              "      <td>...</td>\n",
              "    </tr>\n",
              "    <tr>\n",
              "      <th>2390</th>\n",
              "      <td>AVIATION</td>\n",
              "    </tr>\n",
              "    <tr>\n",
              "      <th>2392</th>\n",
              "      <td>AVIATION</td>\n",
              "    </tr>\n",
              "    <tr>\n",
              "      <th>2455</th>\n",
              "      <td>AVIATION</td>\n",
              "    </tr>\n",
              "    <tr>\n",
              "      <th>2426</th>\n",
              "      <td>AVIATION</td>\n",
              "    </tr>\n",
              "    <tr>\n",
              "      <th>2475</th>\n",
              "      <td>AVIATION</td>\n",
              "    </tr>\n",
              "  </tbody>\n",
              "</table>\n",
              "<p>2880 rows × 1 columns</p>\n",
              "</div><br><label><b>dtype:</b> object</label>"
            ]
          },
          "metadata": {},
          "execution_count": 17
        }
      ],
      "source": [
        "y"
      ]
    },
    {
      "cell_type": "code",
      "execution_count": null,
      "metadata": {
        "id": "GVjwqjmCx20l"
      },
      "outputs": [],
      "source": [
        "x_train,x_test,y_train,y_test=train_test_split(x,y,random_state=42,test_size=0.2)"
      ]
    },
    {
      "cell_type": "markdown",
      "metadata": {
        "id": "xRzfgCgIx6hM"
      },
      "source": [
        "# vectorization"
      ]
    },
    {
      "cell_type": "code",
      "execution_count": null,
      "metadata": {
        "id": "q2-lzZO3x3Wx"
      },
      "outputs": [],
      "source": [
        "tfidf=TfidfVectorizer()\n",
        "x_train_vec=tfidf.fit_transform(x_train)\n",
        "x_test_vec=tfidf.transform(x_test)"
      ]
    },
    {
      "cell_type": "markdown",
      "metadata": {
        "id": "TBnOyp6fx-8V"
      },
      "source": [
        "# train model"
      ]
    },
    {
      "cell_type": "code",
      "execution_count": null,
      "metadata": {
        "id": "4hQhUmMCx8PV",
        "colab": {
          "base_uri": "https://localhost:8080/"
        },
        "outputId": "6d217c1a-f80d-4c00-aac4-43ab9efefcda"
      },
      "outputs": [
        {
          "output_type": "stream",
          "name": "stdout",
          "text": [
            "accuracy is  0.8697916666666666\n"
          ]
        }
      ],
      "source": [
        "from sklearn.metrics import classification_report\n",
        "rf=RandomForestClassifier()\n",
        "rf.fit(x_train_vec,y_train)\n",
        "\n",
        "y_pred=rf.predict(x_test_vec)\n",
        "\n",
        "accuracy=accuracy_score(y_test,y_pred)\n",
        "print('accuracy is ',accuracy)"
      ]
    },
    {
      "cell_type": "code",
      "execution_count": null,
      "metadata": {
        "id": "FDSwoUv-yAlU",
        "colab": {
          "base_uri": "https://localhost:8080/"
        },
        "outputId": "fba73cbf-7873-43fd-a17b-795e2e4a7395"
      },
      "outputs": [
        {
          "output_type": "stream",
          "name": "stdout",
          "text": [
            "                        precision    recall  f1-score   support\n",
            "\n",
            "            ACCOUNTANT       0.73      0.95      0.83        20\n",
            "              ADVOCATE       0.75      0.72      0.74        29\n",
            "           AGRICULTURE       0.95      0.91      0.93        23\n",
            "               APPAREL       0.89      0.73      0.80        22\n",
            "                  ARTS       1.00      0.67      0.80        24\n",
            "            AUTOMOBILE       1.00      0.68      0.81        19\n",
            "              AVIATION       0.89      0.89      0.89        28\n",
            "               BANKING       0.93      0.64      0.76        22\n",
            "                   BPO       1.00      1.00      1.00        15\n",
            "  BUSINESS-DEVELOPMENT       0.71      0.83      0.77        18\n",
            "                  CHEF       0.80      1.00      0.89        28\n",
            "          CONSTRUCTION       0.89      1.00      0.94        25\n",
            "            CONSULTANT       1.00      0.87      0.93        31\n",
            "              DESIGNER       0.87      0.96      0.92        28\n",
            "         DIGITAL-MEDIA       0.87      0.95      0.91        21\n",
            "           ENGINEERING       0.90      0.83      0.86        23\n",
            "               FINANCE       0.86      0.90      0.88        21\n",
            "               FITNESS       0.95      0.91      0.93        22\n",
            "            HEALTHCARE       0.93      0.86      0.89        29\n",
            "                    HR       0.76      0.90      0.83        21\n",
            "INFORMATION-TECHNOLOGY       0.82      1.00      0.90        23\n",
            "      PUBLIC-RELATIONS       0.83      0.79      0.81        24\n",
            "                 SALES       0.85      0.81      0.83        27\n",
            "               TEACHER       0.89      1.00      0.94        33\n",
            "\n",
            "              accuracy                           0.87       576\n",
            "             macro avg       0.88      0.87      0.87       576\n",
            "          weighted avg       0.88      0.87      0.87       576\n",
            "\n"
          ]
        }
      ],
      "source": [
        "print(classification_report(y_test,y_pred))"
      ]
    },
    {
      "cell_type": "code",
      "execution_count": null,
      "metadata": {
        "id": "6Ha4GCQUyCsQ",
        "colab": {
          "base_uri": "https://localhost:8080/",
          "height": 696
        },
        "outputId": "7664f8b2-71f6-4c02-9c4a-68e380eed685"
      },
      "outputs": [
        {
          "output_type": "display_data",
          "data": {
            "text/plain": [
              "<Figure size 1000x800 with 2 Axes>"
            ],
            "image/png": "[encoded data removed]"
          },
          "metadata": {}
        }
      ],
      "source": [
        "cf_mat=confusion_matrix(y_test,y_pred)\n",
        "# print(cf_mat)\n",
        "plt.figure(figsize=(10,8))\n",
        "sns.heatmap(cf_mat,annot=True)\n",
        "plt.xlabel('predicted')\n",
        "plt.ylabel('true')\n",
        "plt.show()"
      ]
    },
    {
      "cell_type": "code",
      "execution_count": null,
      "metadata": {
        "id": "6D-_lfe9yFcQ",
        "colab": {
          "base_uri": "https://localhost:8080/"
        },
        "outputId": "18344277-327f-40b5-e5f3-f4aef53740df"
      },
      "outputs": [
        {
          "output_type": "stream",
          "name": "stdout",
          "text": [
            "accuracy is  0.7777777777777778\n"
          ]
        }
      ],
      "source": [
        "from sklearn.linear_model import LogisticRegression\n",
        "lr=LogisticRegression()\n",
        "\n",
        "lr.fit(x_train_vec,y_train)\n",
        "\n",
        "y_pred=lr.predict(x_test_vec)\n",
        "\n",
        "accuracy=accuracy_score(y_test,y_pred)\n",
        "print('accuracy is ',accuracy)"
      ]
    },
    {
      "cell_type": "code",
      "execution_count": null,
      "metadata": {
        "id": "cj8U5Nd8yHYj",
        "colab": {
          "base_uri": "https://localhost:8080/",
          "height": 701
        },
        "outputId": "9532de91-874a-4ab6-b5fb-49b8157416f9"
      },
      "outputs": [
        {
          "output_type": "display_data",
          "data": {
            "text/plain": [
              "<Figure size 1000x800 with 2 Axes>"
            ],
            "image/png": "[encoded data removed]"
          },
          "metadata": {}
        }
      ],
      "source": [
        "cf_mat=confusion_matrix(y_test,y_pred)\n",
        "# print(cf_mat)\n",
        "plt.figure(figsize=(10,8))\n",
        "sns.heatmap(cf_mat,annot=True)\n",
        "plt.xlabel('predicted')\n",
        "plt.ylabel('true')\n",
        "plt.show()"
      ]
    },
    {
      "cell_type": "code",
      "execution_count": null,
      "metadata": {
        "id": "vNV_Hz_IyMi9"
      },
      "outputs": [],
      "source": [
        "import pickle\n",
        "\n",
        "# Open a file in write binary mode ('wb')\n",
        "with open('random_forest_model.pkl', 'wb') as file:\n",
        "    # Dump the 'rf' object into the file\n",
        "    pickle.dump(rf, file)\n",
        "\n",
        "# Open another file for the tfidf vectorizer\n",
        "with open('tfidf_vectorizer.pkl', 'wb') as file:\n",
        "    # Dump the 'tfidf' object into the file\n",
        "    pickle.dump(tfidf, file)"
      ]
    },
    {
      "cell_type": "code",
      "execution_count": null,
      "metadata": {
        "id": "1ezSo0Feyfm0"
      },
      "outputs": [],
      "source": []
    },
    {
      "cell_type": "markdown",
      "source": [
        "# Resume Job Recommendation"
      ],
      "metadata": {
        "id": "u2oJsse729XY"
      }
    },
    {
      "cell_type": "code",
      "source": [
        "df=pd.read_csv('/content/jobs_dataset_with_features.csv')"
      ],
      "metadata": {
        "id": "DwqxP1nh3Brz"
      },
      "execution_count": null,
      "outputs": []
    },
    {
      "cell_type": "code",
      "source": [
        "df.head()"
      ],
      "metadata": {
        "colab": {
          "base_uri": "https://localhost:8080/",
          "height": 206
        },
        "id": "a-JFDEpr3F1Y",
        "outputId": "5a7d25b3-4f48-472b-8591-3851113b0c77"
      },
      "execution_count": null,
      "outputs": [
        {
          "output_type": "execute_result",
          "data": {
            "text/plain": [
              "                        Role  \\\n",
              "0       Social Media Manager   \n",
              "1     Frontend Web Developer   \n",
              "2    Quality Control Manager   \n",
              "3  Wireless Network Engineer   \n",
              "4         Conference Manager   \n",
              "\n",
              "                                            Features  \n",
              "0  5 to 15 Years Digital Marketing Specialist M.T...  \n",
              "1  2 to 12 Years Web Developer BCA HTML, CSS, Jav...  \n",
              "2  0 to 12 Years Operations Manager PhD Quality c...  \n",
              "3  4 to 11 Years Network Engineer PhD Wireless ne...  \n",
              "4  1 to 12 Years Event Manager MBA Event planning...  "
            ],
            "text/html": [
              "\n",
              "  <div id=\"df-52b4409f-3dc5-45fe-b9ce-38f2adfabdbc\" class=\"colab-df-container\">\n",
              "    <div>\n",
              "<style scoped>\n",
              "    .dataframe tbody tr th:only-of-type {\n",
              "        vertical-align: middle;\n",
              "    }\n",
              "\n",
              "    .dataframe tbody tr th {\n",
              "        vertical-align: top;\n",
              "    }\n",
              "\n",
              "    .dataframe thead th {\n",
              "        text-align: right;\n",
              "    }\n",
              "</style>\n",
              "<table border=\"1\" class=\"dataframe\">\n",
              "  <thead>\n",
              "    <tr style=\"text-align: right;\">\n",
              "      <th></th>\n",
              "      <th>Role</th>\n",
              "      <th>Features</th>\n",
              "    </tr>\n",
              "  </thead>\n",
              "  <tbody>\n",
              "    <tr>\n",
              "      <th>0</th>\n",
              "      <td>Social Media Manager</td>\n",
              "      <td>5 to 15 Years Digital Marketing Specialist M.T...</td>\n",
              "    </tr>\n",
              "    <tr>\n",
              "      <th>1</th>\n",
              "      <td>Frontend Web Developer</td>\n",
              "      <td>2 to 12 Years Web Developer BCA HTML, CSS, Jav...</td>\n",
              "    </tr>\n",
              "    <tr>\n",
              "      <th>2</th>\n",
              "      <td>Quality Control Manager</td>\n",
              "      <td>0 to 12 Years Operations Manager PhD Quality c...</td>\n",
              "    </tr>\n",
              "    <tr>\n",
              "      <th>3</th>\n",
              "      <td>Wireless Network Engineer</td>\n",
              "      <td>4 to 11 Years Network Engineer PhD Wireless ne...</td>\n",
              "    </tr>\n",
              "    <tr>\n",
              "      <th>4</th>\n",
              "      <td>Conference Manager</td>\n",
              "      <td>1 to 12 Years Event Manager MBA Event planning...</td>\n",
              "    </tr>\n",
              "  </tbody>\n",
              "</table>\n",
              "</div>\n",
              "    <div class=\"colab-df-buttons\">\n",
              "\n",
              "  <div class=\"colab-df-container\">\n",
              "    <button class=\"colab-df-convert\" onclick=\"convertToInteractive('df-52b4409f-3dc5-45fe-b9ce-38f2adfabdbc')\"\n",
              "            title=\"Convert this dataframe to an interactive table.\"\n",
              "            style=\"display:none;\">\n",
              "\n",
              "  <svg xmlns=\"http://www.w3.org/2000/svg\" height=\"24px\" viewBox=\"0 -960 960 960\">\n",
              "    <path d=\"M120-120v-720h720v720H120Zm60-500h600v-160H180v160Zm220 220h160v-160H400v160Zm0 220h160v-160H400v160ZM180-400h160v-160H180v160Zm440 0h160v-160H620v160ZM180-180h160v-160H180v160Zm440 0h160v-160H620v160Z\"/>\n",
              "  </svg>\n",
              "    </button>\n",
              "\n",
              "  <style>\n",
              "    .colab-df-container {\n",
              "      display:flex;\n",
              "      gap: 12px;\n",
              "    }\n",
              "\n",
              "    .colab-df-convert {\n",
              "      background-color: #E8F0FE;\n",
              "      border: none;\n",
              "      border-radius: 50%;\n",
              "      cursor: pointer;\n",
              "      display: none;\n",
              "      fill: #1967D2;\n",
              "      height: 32px;\n",
              "      padding: 0 0 0 0;\n",
              "      width: 32px;\n",
              "    }\n",
              "\n",
              "    .colab-df-convert:hover {\n",
              "      background-color: #E2EBFA;\n",
              "      box-shadow: 0px 1px 2px rgba(60, 64, 67, 0.3), 0px 1px 3px 1px rgba(60, 64, 67, 0.15);\n",
              "      fill: #174EA6;\n",
              "    }\n",
              "\n",
              "    .colab-df-buttons div {\n",
              "      margin-bottom: 4px;\n",
              "    }\n",
              "\n",
              "    [theme=dark] .colab-df-convert {\n",
              "      background-color: #3B4455;\n",
              "      fill: #D2E3FC;\n",
              "    }\n",
              "\n",
              "    [theme=dark] .colab-df-convert:hover {\n",
              "      background-color: #434B5C;\n",
              "      box-shadow: 0px 1px 3px 1px rgba(0, 0, 0, 0.15);\n",
              "      filter: drop-shadow(0px 1px 2px rgba(0, 0, 0, 0.3));\n",
              "      fill: #FFFFFF;\n",
              "    }\n",
              "  </style>\n",
              "\n",
              "    <script>\n",
              "      const buttonEl =\n",
              "        document.querySelector('#df-52b4409f-3dc5-45fe-b9ce-38f2adfabdbc button.colab-df-convert');\n",
              "      buttonEl.style.display =\n",
              "        google.colab.kernel.accessAllowed ? 'block' : 'none';\n",
              "\n",
              "      async function convertToInteractive(key) {\n",
              "        const element = document.querySelector('#df-52b4409f-3dc5-45fe-b9ce-38f2adfabdbc');\n",
              "        const dataTable =\n",
              "          await google.colab.kernel.invokeFunction('convertToInteractive',\n",
              "                                                    [key], {});\n",
              "        if (!dataTable) return;\n",
              "\n",
              "        const docLinkHtml = 'Like what you see? Visit the ' +\n",
              "          '<a target=\"_blank\" href=https://colab.research.google.com/notebooks/data_table.ipynb>data table notebook</a>'\n",
              "          + ' to learn more about interactive tables.';\n",
              "        element.innerHTML = '';\n",
              "        dataTable['output_type'] = 'display_data';\n",
              "        await google.colab.output.renderOutput(dataTable, element);\n",
              "        const docLink = document.createElement('div');\n",
              "        docLink.innerHTML = docLinkHtml;\n",
              "        element.appendChild(docLink);\n",
              "      }\n",
              "    </script>\n",
              "  </div>\n",
              "\n",
              "\n",
              "<div id=\"df-708b279a-843b-4f0e-9e3a-ba71140246b7\">\n",
              "  <button class=\"colab-df-quickchart\" onclick=\"quickchart('df-708b279a-843b-4f0e-9e3a-ba71140246b7')\"\n",
              "            title=\"Suggest charts\"\n",
              "            style=\"display:none;\">\n",
              "\n",
              "<svg xmlns=\"http://www.w3.org/2000/svg\" height=\"24px\"viewBox=\"0 0 24 24\"\n",
              "     width=\"24px\">\n",
              "    <g>\n",
              "        <path d=\"M19 3H5c-1.1 0-2 .9-2 2v14c0 1.1.9 2 2 2h14c1.1 0 2-.9 2-2V5c0-1.1-.9-2-2-2zM9 17H7v-7h2v7zm4 0h-2V7h2v10zm4 0h-2v-4h2v4z\"/>\n",
              "    </g>\n",
              "</svg>\n",
              "  </button>\n",
              "\n",
              "<style>\n",
              "  .colab-df-quickchart {\n",
              "      --bg-color: #E8F0FE;\n",
              "      --fill-color: #1967D2;\n",
              "      --hover-bg-color: #E2EBFA;\n",
              "      --hover-fill-color: #174EA6;\n",
              "      --disabled-fill-color: #AAA;\n",
              "      --disabled-bg-color: #DDD;\n",
              "  }\n",
              "\n",
              "  [theme=dark] .colab-df-quickchart {\n",
              "      --bg-color: #3B4455;\n",
              "      --fill-color: #D2E3FC;\n",
              "      --hover-bg-color: #434B5C;\n",
              "      --hover-fill-color: #FFFFFF;\n",
              "      --disabled-bg-color: #3B4455;\n",
              "      --disabled-fill-color: #666;\n",
              "  }\n",
              "\n",
              "  .colab-df-quickchart {\n",
              "    background-color: var(--bg-color);\n",
              "    border: none;\n",
              "    border-radius: 50%;\n",
              "    cursor: pointer;\n",
              "    display: none;\n",
              "    fill: var(--fill-color);\n",
              "    height: 32px;\n",
              "    padding: 0;\n",
              "    width: 32px;\n",
              "  }\n",
              "\n",
              "  .colab-df-quickchart:hover {\n",
              "    background-color: var(--hover-bg-color);\n",
              "    box-shadow: 0 1px 2px rgba(60, 64, 67, 0.3), 0 1px 3px 1px rgba(60, 64, 67, 0.15);\n",
              "    fill: var(--button-hover-fill-color);\n",
              "  }\n",
              "\n",
              "  .colab-df-quickchart-complete:disabled,\n",
              "  .colab-df-quickchart-complete:disabled:hover {\n",
              "    background-color: var(--disabled-bg-color);\n",
              "    fill: var(--disabled-fill-color);\n",
              "    box-shadow: none;\n",
              "  }\n",
              "\n",
              "  .colab-df-spinner {\n",
              "    border: 2px solid var(--fill-color);\n",
              "    border-color: transparent;\n",
              "    border-bottom-color: var(--fill-color);\n",
              "    animation:\n",
              "      spin 1s steps(1) infinite;\n",
              "  }\n",
              "\n",
              "  @keyframes spin {\n",
              "    0% {\n",
              "      border-color: transparent;\n",
              "      border-bottom-color: var(--fill-color);\n",
              "      border-left-color: var(--fill-color);\n",
              "    }\n",
              "    20% {\n",
              "      border-color: transparent;\n",
              "      border-left-color: var(--fill-color);\n",
              "      border-top-color: var(--fill-color);\n",
              "    }\n",
              "    30% {\n",
              "      border-color: transparent;\n",
              "      border-left-color: var(--fill-color);\n",
              "      border-top-color: var(--fill-color);\n",
              "      border-right-color: var(--fill-color);\n",
              "    }\n",
              "    40% {\n",
              "      border-color: transparent;\n",
              "      border-right-color: var(--fill-color);\n",
              "      border-top-color: var(--fill-color);\n",
              "    }\n",
              "    60% {\n",
              "      border-color: transparent;\n",
              "      border-right-color: var(--fill-color);\n",
              "    }\n",
              "    80% {\n",
              "      border-color: transparent;\n",
              "      border-right-color: var(--fill-color);\n",
              "      border-bottom-color: var(--fill-color);\n",
              "    }\n",
              "    90% {\n",
              "      border-color: transparent;\n",
              "      border-bottom-color: var(--fill-color);\n",
              "    }\n",
              "  }\n",
              "</style>\n",
              "\n",
              "  <script>\n",
              "    async function quickchart(key) {\n",
              "      const quickchartButtonEl =\n",
              "        document.querySelector('#' + key + ' button');\n",
              "      quickchartButtonEl.disabled = true;  // To prevent multiple clicks.\n",
              "      quickchartButtonEl.classList.add('colab-df-spinner');\n",
              "      try {\n",
              "        const charts = await google.colab.kernel.invokeFunction(\n",
              "            'suggestCharts', [key], {});\n",
              "      } catch (error) {\n",
              "        console.error('Error during call to suggestCharts:', error);\n",
              "      }\n",
              "      quickchartButtonEl.classList.remove('colab-df-spinner');\n",
              "      quickchartButtonEl.classList.add('colab-df-quickchart-complete');\n",
              "    }\n",
              "    (() => {\n",
              "      let quickchartButtonEl =\n",
              "        document.querySelector('#df-708b279a-843b-4f0e-9e3a-ba71140246b7 button');\n",
              "      quickchartButtonEl.style.display =\n",
              "        google.colab.kernel.accessAllowed ? 'block' : 'none';\n",
              "    })();\n",
              "  </script>\n",
              "</div>\n",
              "\n",
              "    </div>\n",
              "  </div>\n"
            ],
            "application/vnd.google.colaboratory.intrinsic+json": {
              "type": "dataframe",
              "variable_name": "df"
            }
          },
          "metadata": {},
          "execution_count": 27
        }
      ]
    },
    {
      "cell_type": "code",
      "source": [
        "df.shape"
      ],
      "metadata": {
        "colab": {
          "base_uri": "https://localhost:8080/"
        },
        "id": "HoM31GyP3HGb",
        "outputId": "26f725da-cc16-41e6-f0d7-6662e8740489"
      },
      "execution_count": null,
      "outputs": [
        {
          "output_type": "execute_result",
          "data": {
            "text/plain": [
              "(1615940, 2)"
            ]
          },
          "metadata": {},
          "execution_count": 28
        }
      ]
    },
    {
      "cell_type": "code",
      "source": [
        "df['Role'].value_counts()"
      ],
      "metadata": {
        "colab": {
          "base_uri": "https://localhost:8080/",
          "height": 489
        },
        "id": "-FVclcmR3L7e",
        "outputId": "671e6533-cf34-460b-aa28-0aefd989a510"
      },
      "execution_count": null,
      "outputs": [
        {
          "output_type": "execute_result",
          "data": {
            "text/plain": [
              "Role\n",
              "Interaction Designer            20580\n",
              "Network Administrator           17470\n",
              "User Interface Designer         14036\n",
              "Social Media Manager            13945\n",
              "User Experience Designer        13935\n",
              "                                ...  \n",
              "Inventory Control Specialist     3342\n",
              "Budget Analyst                   3335\n",
              "Clinical Nurse Manager           3324\n",
              "Social Science Researcher        3321\n",
              "Paid Advertising Specialist      3306\n",
              "Name: count, Length: 376, dtype: int64"
            ],
            "text/html": [
              "<div>\n",
              "<style scoped>\n",
              "    .dataframe tbody tr th:only-of-type {\n",
              "        vertical-align: middle;\n",
              "    }\n",
              "\n",
              "    .dataframe tbody tr th {\n",
              "        vertical-align: top;\n",
              "    }\n",
              "\n",
              "    .dataframe thead th {\n",
              "        text-align: right;\n",
              "    }\n",
              "</style>\n",
              "<table border=\"1\" class=\"dataframe\">\n",
              "  <thead>\n",
              "    <tr style=\"text-align: right;\">\n",
              "      <th></th>\n",
              "      <th>count</th>\n",
              "    </tr>\n",
              "    <tr>\n",
              "      <th>Role</th>\n",
              "      <th></th>\n",
              "    </tr>\n",
              "  </thead>\n",
              "  <tbody>\n",
              "    <tr>\n",
              "      <th>Interaction Designer</th>\n",
              "      <td>20580</td>\n",
              "    </tr>\n",
              "    <tr>\n",
              "      <th>Network Administrator</th>\n",
              "      <td>17470</td>\n",
              "    </tr>\n",
              "    <tr>\n",
              "      <th>User Interface Designer</th>\n",
              "      <td>14036</td>\n",
              "    </tr>\n",
              "    <tr>\n",
              "      <th>Social Media Manager</th>\n",
              "      <td>13945</td>\n",
              "    </tr>\n",
              "    <tr>\n",
              "      <th>User Experience Designer</th>\n",
              "      <td>13935</td>\n",
              "    </tr>\n",
              "    <tr>\n",
              "      <th>...</th>\n",
              "      <td>...</td>\n",
              "    </tr>\n",
              "    <tr>\n",
              "      <th>Inventory Control Specialist</th>\n",
              "      <td>3342</td>\n",
              "    </tr>\n",
              "    <tr>\n",
              "      <th>Budget Analyst</th>\n",
              "      <td>3335</td>\n",
              "    </tr>\n",
              "    <tr>\n",
              "      <th>Clinical Nurse Manager</th>\n",
              "      <td>3324</td>\n",
              "    </tr>\n",
              "    <tr>\n",
              "      <th>Social Science Researcher</th>\n",
              "      <td>3321</td>\n",
              "    </tr>\n",
              "    <tr>\n",
              "      <th>Paid Advertising Specialist</th>\n",
              "      <td>3306</td>\n",
              "    </tr>\n",
              "  </tbody>\n",
              "</table>\n",
              "<p>376 rows × 1 columns</p>\n",
              "</div><br><label><b>dtype:</b> int64</label>"
            ]
          },
          "metadata": {},
          "execution_count": 29
        }
      ]
    },
    {
      "cell_type": "code",
      "source": [
        "m_c=6500\n",
        "r_c=df['Role'].value_counts()\n",
        "droppes_class=r_c[r_c<m_c].index\n",
        "f_df=df[~df['Role'].isin(droppes_class)].reset_index(drop=True)\n",
        "\n",
        "f_df['Role'].value_counts()"
      ],
      "metadata": {
        "colab": {
          "base_uri": "https://localhost:8080/",
          "height": 489
        },
        "id": "wQmxW0ux3tWU",
        "outputId": "1bddaee4-95a3-444a-8504-43fb73e0186c"
      },
      "execution_count": null,
      "outputs": [
        {
          "output_type": "execute_result",
          "data": {
            "text/plain": [
              "Role\n",
              "Interaction Designer          20580\n",
              "Network Administrator         17470\n",
              "User Interface Designer       14036\n",
              "Social Media Manager          13945\n",
              "User Experience Designer      13935\n",
              "                              ...  \n",
              "Benefits Coordinator           6839\n",
              "Research Analyst               6830\n",
              "Administrative Coordinator     6803\n",
              "IT Support Specialist          6799\n",
              "UI/UX Designer                 6743\n",
              "Name: count, Length: 61, dtype: int64"
            ],
            "text/html": [
              "<div>\n",
              "<style scoped>\n",
              "    .dataframe tbody tr th:only-of-type {\n",
              "        vertical-align: middle;\n",
              "    }\n",
              "\n",
              "    .dataframe tbody tr th {\n",
              "        vertical-align: top;\n",
              "    }\n",
              "\n",
              "    .dataframe thead th {\n",
              "        text-align: right;\n",
              "    }\n",
              "</style>\n",
              "<table border=\"1\" class=\"dataframe\">\n",
              "  <thead>\n",
              "    <tr style=\"text-align: right;\">\n",
              "      <th></th>\n",
              "      <th>count</th>\n",
              "    </tr>\n",
              "    <tr>\n",
              "      <th>Role</th>\n",
              "      <th></th>\n",
              "    </tr>\n",
              "  </thead>\n",
              "  <tbody>\n",
              "    <tr>\n",
              "      <th>Interaction Designer</th>\n",
              "      <td>20580</td>\n",
              "    </tr>\n",
              "    <tr>\n",
              "      <th>Network Administrator</th>\n",
              "      <td>17470</td>\n",
              "    </tr>\n",
              "    <tr>\n",
              "      <th>User Interface Designer</th>\n",
              "      <td>14036</td>\n",
              "    </tr>\n",
              "    <tr>\n",
              "      <th>Social Media Manager</th>\n",
              "      <td>13945</td>\n",
              "    </tr>\n",
              "    <tr>\n",
              "      <th>User Experience Designer</th>\n",
              "      <td>13935</td>\n",
              "    </tr>\n",
              "    <tr>\n",
              "      <th>...</th>\n",
              "      <td>...</td>\n",
              "    </tr>\n",
              "    <tr>\n",
              "      <th>Benefits Coordinator</th>\n",
              "      <td>6839</td>\n",
              "    </tr>\n",
              "    <tr>\n",
              "      <th>Research Analyst</th>\n",
              "      <td>6830</td>\n",
              "    </tr>\n",
              "    <tr>\n",
              "      <th>Administrative Coordinator</th>\n",
              "      <td>6803</td>\n",
              "    </tr>\n",
              "    <tr>\n",
              "      <th>IT Support Specialist</th>\n",
              "      <td>6799</td>\n",
              "    </tr>\n",
              "    <tr>\n",
              "      <th>UI/UX Designer</th>\n",
              "      <td>6743</td>\n",
              "    </tr>\n",
              "  </tbody>\n",
              "</table>\n",
              "<p>61 rows × 1 columns</p>\n",
              "</div><br><label><b>dtype:</b> int64</label>"
            ]
          },
          "metadata": {},
          "execution_count": 30
        }
      ]
    },
    {
      "cell_type": "code",
      "source": [
        "f_df.size"
      ],
      "metadata": {
        "colab": {
          "base_uri": "https://localhost:8080/"
        },
        "id": "qXne3eMT4pan",
        "outputId": "bb34e1a6-8cba-45c9-837b-1fb3f410d2b0"
      },
      "execution_count": null,
      "outputs": [
        {
          "output_type": "execute_result",
          "data": {
            "text/plain": [
              "1041384"
            ]
          },
          "metadata": {},
          "execution_count": 31
        }
      ]
    },
    {
      "cell_type": "code",
      "source": [
        "df=f_df.sample(n=10000)"
      ],
      "metadata": {
        "id": "4wIk0laA5iWr"
      },
      "execution_count": null,
      "outputs": []
    },
    {
      "cell_type": "code",
      "source": [
        "df.shape"
      ],
      "metadata": {
        "colab": {
          "base_uri": "https://localhost:8080/"
        },
        "id": "tGkZgne65wJu",
        "outputId": "5d491164-8849-45b5-b661-297c82a5ced5"
      },
      "execution_count": null,
      "outputs": [
        {
          "output_type": "execute_result",
          "data": {
            "text/plain": [
              "(10000, 2)"
            ]
          },
          "metadata": {},
          "execution_count": 33
        }
      ]
    },
    {
      "cell_type": "code",
      "source": [
        "df"
      ],
      "metadata": {
        "colab": {
          "base_uri": "https://localhost:8080/",
          "height": 423
        },
        "id": "uHC7N0W_5w77",
        "outputId": "5df30e6e-153b-40fa-f67d-155dbc901f39"
      },
      "execution_count": null,
      "outputs": [
        {
          "output_type": "execute_result",
          "data": {
            "text/plain": [
              "                            Role  \\\n",
              "36631             Demand Planner   \n",
              "316672         Financial Analyst   \n",
              "131766  User Experience Designer   \n",
              "440891        Investment Advisor   \n",
              "452331       Procurement Analyst   \n",
              "...                          ...   \n",
              "244057                 Paralegal   \n",
              "120752       Procurement Manager   \n",
              "50513         Retirement Planner   \n",
              "169237            SEO Specialist   \n",
              "329732   User Interface Designer   \n",
              "\n",
              "                                                 Features  \n",
              "36631   4 to 9 Years Supply Chain Manager B.Tech Deman...  \n",
              "316672  4 to 11 Years Investment Banker PhD Financial ...  \n",
              "131766  0 to 9 Years UX/UI Designer MBA User-centered ...  \n",
              "440891  0 to 11 Years Financial Advisor BA Investment ...  \n",
              "452331  2 to 15 Years Procurement Manager MBA Procurem...  \n",
              "...                                                   ...  \n",
              "244057  0 to 8 Years Legal Assistant M.Tech Legal rese...  \n",
              "120752  4 to 15 Years Procurement Specialist B.Tech Pr...  \n",
              "50513   1 to 11 Years Financial Advisor M.Com Retireme...  \n",
              "169237  4 to 15 Years Digital Marketing Specialist BBA...  \n",
              "329732  0 to 13 Years UX/UI Designer B.Tech UI design ...  \n",
              "\n",
              "[10000 rows x 2 columns]"
            ],
            "text/html": [
              "\n",
              "  <div id=\"df-48c97192-a09c-42d5-9e6e-636fea3762df\" class=\"colab-df-container\">\n",
              "    <div>\n",
              "<style scoped>\n",
              "    .dataframe tbody tr th:only-of-type {\n",
              "        vertical-align: middle;\n",
              "    }\n",
              "\n",
              "    .dataframe tbody tr th {\n",
              "        vertical-align: top;\n",
              "    }\n",
              "\n",
              "    .dataframe thead th {\n",
              "        text-align: right;\n",
              "    }\n",
              "</style>\n",
              "<table border=\"1\" class=\"dataframe\">\n",
              "  <thead>\n",
              "    <tr style=\"text-align: right;\">\n",
              "      <th></th>\n",
              "      <th>Role</th>\n",
              "      <th>Features</th>\n",
              "    </tr>\n",
              "  </thead>\n",
              "  <tbody>\n",
              "    <tr>\n",
              "      <th>36631</th>\n",
              "      <td>Demand Planner</td>\n",
              "      <td>4 to 9 Years Supply Chain Manager B.Tech Deman...</td>\n",
              "    </tr>\n",
              "    <tr>\n",
              "      <th>316672</th>\n",
              "      <td>Financial Analyst</td>\n",
              "      <td>4 to 11 Years Investment Banker PhD Financial ...</td>\n",
              "    </tr>\n",
              "    <tr>\n",
              "      <th>131766</th>\n",
              "      <td>User Experience Designer</td>\n",
              "      <td>0 to 9 Years UX/UI Designer MBA User-centered ...</td>\n",
              "    </tr>\n",
              "    <tr>\n",
              "      <th>440891</th>\n",
              "      <td>Investment Advisor</td>\n",
              "      <td>0 to 11 Years Financial Advisor BA Investment ...</td>\n",
              "    </tr>\n",
              "    <tr>\n",
              "      <th>452331</th>\n",
              "      <td>Procurement Analyst</td>\n",
              "      <td>2 to 15 Years Procurement Manager MBA Procurem...</td>\n",
              "    </tr>\n",
              "    <tr>\n",
              "      <th>...</th>\n",
              "      <td>...</td>\n",
              "      <td>...</td>\n",
              "    </tr>\n",
              "    <tr>\n",
              "      <th>244057</th>\n",
              "      <td>Paralegal</td>\n",
              "      <td>0 to 8 Years Legal Assistant M.Tech Legal rese...</td>\n",
              "    </tr>\n",
              "    <tr>\n",
              "      <th>120752</th>\n",
              "      <td>Procurement Manager</td>\n",
              "      <td>4 to 15 Years Procurement Specialist B.Tech Pr...</td>\n",
              "    </tr>\n",
              "    <tr>\n",
              "      <th>50513</th>\n",
              "      <td>Retirement Planner</td>\n",
              "      <td>1 to 11 Years Financial Advisor M.Com Retireme...</td>\n",
              "    </tr>\n",
              "    <tr>\n",
              "      <th>169237</th>\n",
              "      <td>SEO Specialist</td>\n",
              "      <td>4 to 15 Years Digital Marketing Specialist BBA...</td>\n",
              "    </tr>\n",
              "    <tr>\n",
              "      <th>329732</th>\n",
              "      <td>User Interface Designer</td>\n",
              "      <td>0 to 13 Years UX/UI Designer B.Tech UI design ...</td>\n",
              "    </tr>\n",
              "  </tbody>\n",
              "</table>\n",
              "<p>10000 rows × 2 columns</p>\n",
              "</div>\n",
              "    <div class=\"colab-df-buttons\">\n",
              "\n",
              "  <div class=\"colab-df-container\">\n",
              "    <button class=\"colab-df-convert\" onclick=\"convertToInteractive('df-48c97192-a09c-42d5-9e6e-636fea3762df')\"\n",
              "            title=\"Convert this dataframe to an interactive table.\"\n",
              "            style=\"display:none;\">\n",
              "\n",
              "  <svg xmlns=\"http://www.w3.org/2000/svg\" height=\"24px\" viewBox=\"0 -960 960 960\">\n",
              "    <path d=\"M120-120v-720h720v720H120Zm60-500h600v-160H180v160Zm220 220h160v-160H400v160Zm0 220h160v-160H400v160ZM180-400h160v-160H180v160Zm440 0h160v-160H620v160ZM180-180h160v-160H180v160Zm440 0h160v-160H620v160Z\"/>\n",
              "  </svg>\n",
              "    </button>\n",
              "\n",
              "  <style>\n",
              "    .colab-df-container {\n",
              "      display:flex;\n",
              "      gap: 12px;\n",
              "    }\n",
              "\n",
              "    .colab-df-convert {\n",
              "      background-color: #E8F0FE;\n",
              "      border: none;\n",
              "      border-radius: 50%;\n",
              "      cursor: pointer;\n",
              "      display: none;\n",
              "      fill: #1967D2;\n",
              "      height: 32px;\n",
              "      padding: 0 0 0 0;\n",
              "      width: 32px;\n",
              "    }\n",
              "\n",
              "    .colab-df-convert:hover {\n",
              "      background-color: #E2EBFA;\n",
              "      box-shadow: 0px 1px 2px rgba(60, 64, 67, 0.3), 0px 1px 3px 1px rgba(60, 64, 67, 0.15);\n",
              "      fill: #174EA6;\n",
              "    }\n",
              "\n",
              "    .colab-df-buttons div {\n",
              "      margin-bottom: 4px;\n",
              "    }\n",
              "\n",
              "    [theme=dark] .colab-df-convert {\n",
              "      background-color: #3B4455;\n",
              "      fill: #D2E3FC;\n",
              "    }\n",
              "\n",
              "    [theme=dark] .colab-df-convert:hover {\n",
              "      background-color: #434B5C;\n",
              "      box-shadow: 0px 1px 3px 1px rgba(0, 0, 0, 0.15);\n",
              "      filter: drop-shadow(0px 1px 2px rgba(0, 0, 0, 0.3));\n",
              "      fill: #FFFFFF;\n",
              "    }\n",
              "  </style>\n",
              "\n",
              "    <script>\n",
              "      const buttonEl =\n",
              "        document.querySelector('#df-48c97192-a09c-42d5-9e6e-636fea3762df button.colab-df-convert');\n",
              "      buttonEl.style.display =\n",
              "        google.colab.kernel.accessAllowed ? 'block' : 'none';\n",
              "\n",
              "      async function convertToInteractive(key) {\n",
              "        const element = document.querySelector('#df-48c97192-a09c-42d5-9e6e-636fea3762df');\n",
              "        const dataTable =\n",
              "          await google.colab.kernel.invokeFunction('convertToInteractive',\n",
              "                                                    [key], {});\n",
              "        if (!dataTable) return;\n",
              "\n",
              "        const docLinkHtml = 'Like what you see? Visit the ' +\n",
              "          '<a target=\"_blank\" href=https://colab.research.google.com/notebooks/data_table.ipynb>data table notebook</a>'\n",
              "          + ' to learn more about interactive tables.';\n",
              "        element.innerHTML = '';\n",
              "        dataTable['output_type'] = 'display_data';\n",
              "        await google.colab.output.renderOutput(dataTable, element);\n",
              "        const docLink = document.createElement('div');\n",
              "        docLink.innerHTML = docLinkHtml;\n",
              "        element.appendChild(docLink);\n",
              "      }\n",
              "    </script>\n",
              "  </div>\n",
              "\n",
              "\n",
              "<div id=\"df-1ca9b5f8-18c6-4fc8-8810-1bf3e5a939d6\">\n",
              "  <button class=\"colab-df-quickchart\" onclick=\"quickchart('df-1ca9b5f8-18c6-4fc8-8810-1bf3e5a939d6')\"\n",
              "            title=\"Suggest charts\"\n",
              "            style=\"display:none;\">\n",
              "\n",
              "<svg xmlns=\"http://www.w3.org/2000/svg\" height=\"24px\"viewBox=\"0 0 24 24\"\n",
              "     width=\"24px\">\n",
              "    <g>\n",
              "        <path d=\"M19 3H5c-1.1 0-2 .9-2 2v14c0 1.1.9 2 2 2h14c1.1 0 2-.9 2-2V5c0-1.1-.9-2-2-2zM9 17H7v-7h2v7zm4 0h-2V7h2v10zm4 0h-2v-4h2v4z\"/>\n",
              "    </g>\n",
              "</svg>\n",
              "  </button>\n",
              "\n",
              "<style>\n",
              "  .colab-df-quickchart {\n",
              "      --bg-color: #E8F0FE;\n",
              "      --fill-color: #1967D2;\n",
              "      --hover-bg-color: #E2EBFA;\n",
              "      --hover-fill-color: #174EA6;\n",
              "      --disabled-fill-color: #AAA;\n",
              "      --disabled-bg-color: #DDD;\n",
              "  }\n",
              "\n",
              "  [theme=dark] .colab-df-quickchart {\n",
              "      --bg-color: #3B4455;\n",
              "      --fill-color: #D2E3FC;\n",
              "      --hover-bg-color: #434B5C;\n",
              "      --hover-fill-color: #FFFFFF;\n",
              "      --disabled-bg-color: #3B4455;\n",
              "      --disabled-fill-color: #666;\n",
              "  }\n",
              "\n",
              "  .colab-df-quickchart {\n",
              "    background-color: var(--bg-color);\n",
              "    border: none;\n",
              "    border-radius: 50%;\n",
              "    cursor: pointer;\n",
              "    display: none;\n",
              "    fill: var(--fill-color);\n",
              "    height: 32px;\n",
              "    padding: 0;\n",
              "    width: 32px;\n",
              "  }\n",
              "\n",
              "  .colab-df-quickchart:hover {\n",
              "    background-color: var(--hover-bg-color);\n",
              "    box-shadow: 0 1px 2px rgba(60, 64, 67, 0.3), 0 1px 3px 1px rgba(60, 64, 67, 0.15);\n",
              "    fill: var(--button-hover-fill-color);\n",
              "  }\n",
              "\n",
              "  .colab-df-quickchart-complete:disabled,\n",
              "  .colab-df-quickchart-complete:disabled:hover {\n",
              "    background-color: var(--disabled-bg-color);\n",
              "    fill: var(--disabled-fill-color);\n",
              "    box-shadow: none;\n",
              "  }\n",
              "\n",
              "  .colab-df-spinner {\n",
              "    border: 2px solid var(--fill-color);\n",
              "    border-color: transparent;\n",
              "    border-bottom-color: var(--fill-color);\n",
              "    animation:\n",
              "      spin 1s steps(1) infinite;\n",
              "  }\n",
              "\n",
              "  @keyframes spin {\n",
              "    0% {\n",
              "      border-color: transparent;\n",
              "      border-bottom-color: var(--fill-color);\n",
              "      border-left-color: var(--fill-color);\n",
              "    }\n",
              "    20% {\n",
              "      border-color: transparent;\n",
              "      border-left-color: var(--fill-color);\n",
              "      border-top-color: var(--fill-color);\n",
              "    }\n",
              "    30% {\n",
              "      border-color: transparent;\n",
              "      border-left-color: var(--fill-color);\n",
              "      border-top-color: var(--fill-color);\n",
              "      border-right-color: var(--fill-color);\n",
              "    }\n",
              "    40% {\n",
              "      border-color: transparent;\n",
              "      border-right-color: var(--fill-color);\n",
              "      border-top-color: var(--fill-color);\n",
              "    }\n",
              "    60% {\n",
              "      border-color: transparent;\n",
              "      border-right-color: var(--fill-color);\n",
              "    }\n",
              "    80% {\n",
              "      border-color: transparent;\n",
              "      border-right-color: var(--fill-color);\n",
              "      border-bottom-color: var(--fill-color);\n",
              "    }\n",
              "    90% {\n",
              "      border-color: transparent;\n",
              "      border-bottom-color: var(--fill-color);\n",
              "    }\n",
              "  }\n",
              "</style>\n",
              "\n",
              "  <script>\n",
              "    async function quickchart(key) {\n",
              "      const quickchartButtonEl =\n",
              "        document.querySelector('#' + key + ' button');\n",
              "      quickchartButtonEl.disabled = true;  // To prevent multiple clicks.\n",
              "      quickchartButtonEl.classList.add('colab-df-spinner');\n",
              "      try {\n",
              "        const charts = await google.colab.kernel.invokeFunction(\n",
              "            'suggestCharts', [key], {});\n",
              "      } catch (error) {\n",
              "        console.error('Error during call to suggestCharts:', error);\n",
              "      }\n",
              "      quickchartButtonEl.classList.remove('colab-df-spinner');\n",
              "      quickchartButtonEl.classList.add('colab-df-quickchart-complete');\n",
              "    }\n",
              "    (() => {\n",
              "      let quickchartButtonEl =\n",
              "        document.querySelector('#df-1ca9b5f8-18c6-4fc8-8810-1bf3e5a939d6 button');\n",
              "      quickchartButtonEl.style.display =\n",
              "        google.colab.kernel.accessAllowed ? 'block' : 'none';\n",
              "    })();\n",
              "  </script>\n",
              "</div>\n",
              "\n",
              "  <div id=\"id_c98928d3-788b-49fb-9999-65a8d7e00f74\">\n",
              "    <style>\n",
              "      .colab-df-generate {\n",
              "        background-color: #E8F0FE;\n",
              "        border: none;\n",
              "        border-radius: 50%;\n",
              "        cursor: pointer;\n",
              "        display: none;\n",
              "        fill: #1967D2;\n",
              "        height: 32px;\n",
              "        padding: 0 0 0 0;\n",
              "        width: 32px;\n",
              "      }\n",
              "\n",
              "      .colab-df-generate:hover {\n",
              "        background-color: #E2EBFA;\n",
              "        box-shadow: 0px 1px 2px rgba(60, 64, 67, 0.3), 0px 1px 3px 1px rgba(60, 64, 67, 0.15);\n",
              "        fill: #174EA6;\n",
              "      }\n",
              "\n",
              "      [theme=dark] .colab-df-generate {\n",
              "        background-color: #3B4455;\n",
              "        fill: #D2E3FC;\n",
              "      }\n",
              "\n",
              "      [theme=dark] .colab-df-generate:hover {\n",
              "        background-color: #434B5C;\n",
              "        box-shadow: 0px 1px 3px 1px rgba(0, 0, 0, 0.15);\n",
              "        filter: drop-shadow(0px 1px 2px rgba(0, 0, 0, 0.3));\n",
              "        fill: #FFFFFF;\n",
              "      }\n",
              "    </style>\n",
              "    <button class=\"colab-df-generate\" onclick=\"generateWithVariable('df')\"\n",
              "            title=\"Generate code using this dataframe.\"\n",
              "            style=\"display:none;\">\n",
              "\n",
              "  <svg xmlns=\"http://www.w3.org/2000/svg\" height=\"24px\"viewBox=\"0 0 24 24\"\n",
              "       width=\"24px\">\n",
              "    <path d=\"M7,19H8.4L18.45,9,17,7.55,7,17.6ZM5,21V16.75L18.45,3.32a2,2,0,0,1,2.83,0l1.4,1.43a1.91,1.91,0,0,1,.58,1.4,1.91,1.91,0,0,1-.58,1.4L9.25,21ZM18.45,9,17,7.55Zm-12,3A5.31,5.31,0,0,0,4.9,8.1,5.31,5.31,0,0,0,1,6.5,5.31,5.31,0,0,0,4.9,4.9,5.31,5.31,0,0,0,6.5,1,5.31,5.31,0,0,0,8.1,4.9,5.31,5.31,0,0,0,12,6.5,5.46,5.46,0,0,0,6.5,12Z\"/>\n",
              "  </svg>\n",
              "    </button>\n",
              "    <script>\n",
              "      (() => {\n",
              "      const buttonEl =\n",
              "        document.querySelector('#id_c98928d3-788b-49fb-9999-65a8d7e00f74 button.colab-df-generate');\n",
              "      buttonEl.style.display =\n",
              "        google.colab.kernel.accessAllowed ? 'block' : 'none';\n",
              "\n",
              "      buttonEl.onclick = () => {\n",
              "        google.colab.notebook.generateWithVariable('df');\n",
              "      }\n",
              "      })();\n",
              "    </script>\n",
              "  </div>\n",
              "\n",
              "    </div>\n",
              "  </div>\n"
            ],
            "application/vnd.google.colaboratory.intrinsic+json": {
              "type": "dataframe",
              "variable_name": "df",
              "summary": "{\n  \"name\": \"df\",\n  \"rows\": 10000,\n  \"fields\": [\n    {\n      \"column\": \"Role\",\n      \"properties\": {\n        \"dtype\": \"category\",\n        \"num_unique_values\": 61,\n        \"samples\": [\n          \"Demand Planner\",\n          \"Personal Assistant\",\n          \"Network Security Analyst\"\n        ],\n        \"semantic_type\": \"\",\n        \"description\": \"\"\n      }\n    },\n    {\n      \"column\": \"Features\",\n      \"properties\": {\n        \"dtype\": \"string\",\n        \"num_unique_values\": 10000,\n        \"samples\": [\n          \"5 to 10 Years Procurement Manager BA Procurement processes Vendor assessment Contract negotiation Purchase order management Spend analysis Market research Supplier relationship management Data analysis Problem-solving Attention to detail Communication skills Financial acumen Analyze procurement data and trends to support decision-making. Conduct supplier evaluations and performance assessments. Assist in procurement planning and forecasting. 47082\",\n          \"3 to 8 Years Investment Banker PhD Financial analysis Data analysis Financial modeling Analyze financial data, research investment opportunities, and provide recommendations for investment decisions. Create financial models and projections. Collaborate with clients on investment strategies. 104220\",\n          \"1 to 10 Years UX/UI Designer BBA Interaction design principles User behavior and psychology Wireframing and prototyping tools Animation and micro-interaction design Collaborative design processes Work on interaction design, defining how users interact with digital products and ensuring a seamless user journey. Create wireframes and prototypes to illustrate interactions. Collaborate with developers to implement interaction designs. 93523\"\n        ],\n        \"semantic_type\": \"\",\n        \"description\": \"\"\n      }\n    }\n  ]\n}"
            }
          },
          "metadata": {},
          "execution_count": 34
        }
      ]
    },
    {
      "cell_type": "code",
      "source": [
        "x=df['Features']\n",
        "y=df['Role']"
      ],
      "metadata": {
        "id": "VUOI92NM52tf"
      },
      "execution_count": null,
      "outputs": []
    },
    {
      "cell_type": "code",
      "source": [
        "x_train,x_test,y_train,y_test=train_test_split(x,y,test_size=0.2,random_state=42)"
      ],
      "metadata": {
        "id": "cMxkjCpZ57SR"
      },
      "execution_count": null,
      "outputs": []
    },
    {
      "cell_type": "code",
      "source": [
        "tfidf_vec=TfidfVectorizer()\n",
        "x_train_tfidf=tfidf_vec.fit_transform(x_train)\n",
        "x_test_tfidf=tfidf_vec.transform(x_test)"
      ],
      "metadata": {
        "id": "_6_0bIyG6I09"
      },
      "execution_count": null,
      "outputs": []
    },
    {
      "cell_type": "code",
      "source": [
        "rf_cli=RandomForestClassifier()\n",
        "rf_cli.fit(x_train_tfidf,y_train)\n",
        "\n",
        "y_pred=rf_cli.predict(x_test_tfidf)\n",
        "\n",
        "accuracy=accuracy_score(y_test,y_pred)\n",
        "print('accuracy is ',accuracy)"
      ],
      "metadata": {
        "colab": {
          "base_uri": "https://localhost:8080/"
        },
        "id": "PQJZJ4aO6WdS",
        "outputId": "f97df7ce-8e19-4664-df37-55fa3420280c"
      },
      "execution_count": null,
      "outputs": [
        {
          "output_type": "stream",
          "name": "stdout",
          "text": [
            "accuracy is  1.0\n"
          ]
        }
      ]
    },
    {
      "cell_type": "code",
      "source": [
        "import re\n",
        "def cleanResume(txt):\n",
        "    cleanText = re.sub('http\\S+\\s', ' ', txt)\n",
        "    cleanText = re.sub('RT|cc', ' ', cleanText)\n",
        "    cleanText = re.sub('#\\S+\\s', ' ', cleanText)\n",
        "    cleanText = re.sub('@\\S+', '  ', cleanText)\n",
        "    cleanText = re.sub('[%s]' % re.escape(\"\"\"!\"#$%&'()*+,-./:;<=>?@[\\]^_`{|}~\"\"\"), ' ', cleanText)\n",
        "    cleanText = re.sub(r'[^\\x00-\\x7f]', ' ', cleanText)\n",
        "    cleanText = re.sub('\\s+', ' ', cleanText)\n",
        "    return cleanText\n",
        "\n",
        "def prediction_category(txt):\n",
        "    res_txt=cleanResume(txt)\n",
        "    res_tfidf=tfidf_vec.transform([res_txt])\n",
        "    res_rf=rf_cli.predict(res_tfidf)[0]\n",
        "    return res_rf"
      ],
      "metadata": {
        "id": "v6vgoIVN6phR"
      },
      "execution_count": null,
      "outputs": []
    },
    {
      "cell_type": "code",
      "source": [
        "tt=\"\"\"Objective:\n",
        "Dedicated and results-oriented Banking professional with a strong background in financial analysis and customer service seeking opportunities to contribute to a reputable financial institution. Eager to leverage expertise in risk management, investment strategies, and relationship building to drive business growth and client satisfaction.\n",
        "\n",
        "Education:\n",
        "- Bachelor of Business Administration in Finance, XYZ University, GPA: 3.8/4.0\n",
        "- Certified Financial Analyst (CFA) Level I Candidate\n",
        "\n",
        "Skills:\n",
        "- Proficient in financial modeling and analysis using Excel, Bloomberg Terminal, and other financial software\n",
        "- Extensive knowledge of banking products and services, including loans, mortgages, and investment products\n",
        "- Strong understanding of regulatory compliance and risk management practices in the banking industry\n",
        "- Excellent communication and interpersonal skills, with a focus on building rapport with clients and colleagues\n",
        "- Ability to work efficiently under pressure and adapt to changing market conditions\n",
        "\n",
        "Experience:\n",
        "Financial Analyst | ABC Bank\n",
        "- Conducted financial analysis and risk assessment for corporate clients, including credit analysis, financial statement analysis, and cash flow modeling\n",
        "- Developed customized financial solutions to meet clients' needs and objectives, resulting in increased revenue and client retention\n",
        "- Collaborated with cross-functional teams to identify new business opportunities and optimize existing processes\n",
        "\n",
        "Customer Service Representative | DEF Bank\n",
        "- Provided exceptional customer service to bank clients, addressing inquiries, resolving issues, and promoting banking products and services\n",
        "- Processed transactions accurately and efficiently, including deposits, withdrawals, and account transfers\n",
        "- Educated customers on various banking products and services, helping them make informed financial decisions\n",
        "\n",
        "Internship | GHI Investments\n",
        "- Assisted portfolio managers with investment research and analysis, including industry and company-specific research, financial modeling, and performance analysis\n",
        "- Prepared investment presentations and reports for clients, highlighting investment opportunities and performance metrics\n",
        "- Conducted market research and analysis to identify trends and opportunities in the financial markets\n",
        "\n",
        "Certifications:\n",
        "- Certified Financial Planner (CFP)\n",
        "- Series 7 and Series 63 Securities Licenses\n",
        "\n",
        "Languages:\n",
        "- English (Native)\n",
        "- Spanish (Proficient)\n",
        "\"\"\""
      ],
      "metadata": {
        "id": "jPVZ_kYR62eT"
      },
      "execution_count": null,
      "outputs": []
    },
    {
      "cell_type": "code",
      "source": [
        "prediction_category(tt)"
      ],
      "metadata": {
        "colab": {
          "base_uri": "https://localhost:8080/",
          "height": 36
        },
        "id": "Qu5s00Yz7F3T",
        "outputId": "88d9ec71-a981-4360-82f6-e5d45d4befc7"
      },
      "execution_count": null,
      "outputs": [
        {
          "output_type": "execute_result",
          "data": {
            "text/plain": [
              "'Financial Analyst'"
            ],
            "application/vnd.google.colaboratory.intrinsic+json": {
              "type": "string"
            }
          },
          "metadata": {},
          "execution_count": 41
        }
      ]
    },
    {
      "cell_type": "code",
      "source": [
        "import pickle\n",
        "pickle.dump(rf_cli,open('rf_clsi_job.pkl','wb'))\n",
        "pickle.dump(tfidf_vec,open('vectorizer_job_rec.pkl','wb'))"
      ],
      "metadata": {
        "id": "2ahxMrbp7WFt"
      },
      "execution_count": null,
      "outputs": []
    },
    {
      "cell_type": "code",
      "source": [],
      "metadata": {
        "id": "W0PIhH347WXr"
      },
      "execution_count": null,
      "outputs": []
    }
  ],
  "metadata": {
    "colab": {
      "provenance": []
    },
    "kernelspec": {
      "display_name": "Python 3",
      "name": "python3"
    },
    "language_info": {
      "name": "python"
    }
  },
  "nbformat": 4,
  "nbformat_minor": 0
}